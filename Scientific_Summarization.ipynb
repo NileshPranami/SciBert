{
  "nbformat": 4,
  "nbformat_minor": 0,
  "metadata": {
    "colab": {
      "name": "Scientific-Summarization",
      "provenance": [],
      "collapsed_sections": [],
      "include_colab_link": true
    },
    "kernelspec": {
      "display_name": "Python 3",
      "name": "python3"
    },
    "accelerator": "GPU",
    "widgets": {
      "application/vnd.jupyter.widget-state+json": {
        "c4bc4196293f4c83816b82003188ec73": {
          "model_module": "@jupyter-widgets/controls",
          "model_name": "HBoxModel",
          "state": {
            "_view_name": "HBoxView",
            "_dom_classes": [],
            "_model_name": "HBoxModel",
            "_view_module": "@jupyter-widgets/controls",
            "_model_module_version": "1.5.0",
            "_view_count": null,
            "_view_module_version": "1.5.0",
            "box_style": "",
            "layout": "IPY_MODEL_cbc7eb8fcfdc46abb7cc12b826d46e7a",
            "_model_module": "@jupyter-widgets/controls",
            "children": [
              "IPY_MODEL_f19ebed3655746e6801b483b10d10dca",
              "IPY_MODEL_ba85ed53bed44b9487963058b95c9f07"
            ]
          }
        },
        "cbc7eb8fcfdc46abb7cc12b826d46e7a": {
          "model_module": "@jupyter-widgets/base",
          "model_name": "LayoutModel",
          "state": {
            "_view_name": "LayoutView",
            "grid_template_rows": null,
            "right": null,
            "justify_content": null,
            "_view_module": "@jupyter-widgets/base",
            "overflow": null,
            "_model_module_version": "1.2.0",
            "_view_count": null,
            "flex_flow": null,
            "width": null,
            "min_width": null,
            "border": null,
            "align_items": null,
            "bottom": null,
            "_model_module": "@jupyter-widgets/base",
            "top": null,
            "grid_column": null,
            "overflow_y": null,
            "overflow_x": null,
            "grid_auto_flow": null,
            "grid_area": null,
            "grid_template_columns": null,
            "flex": null,
            "_model_name": "LayoutModel",
            "justify_items": null,
            "grid_row": null,
            "max_height": null,
            "align_content": null,
            "visibility": null,
            "align_self": null,
            "height": null,
            "min_height": null,
            "padding": null,
            "grid_auto_rows": null,
            "grid_gap": null,
            "max_width": null,
            "order": null,
            "_view_module_version": "1.2.0",
            "grid_template_areas": null,
            "object_position": null,
            "object_fit": null,
            "grid_auto_columns": null,
            "margin": null,
            "display": null,
            "left": null
          }
        },
        "f19ebed3655746e6801b483b10d10dca": {
          "model_module": "@jupyter-widgets/controls",
          "model_name": "FloatProgressModel",
          "state": {
            "_view_name": "ProgressView",
            "style": "IPY_MODEL_682d473d9ba54533a7409959bb341c29",
            "_dom_classes": [],
            "description": "100%",
            "_model_name": "FloatProgressModel",
            "bar_style": "success",
            "max": 2016,
            "_view_module": "@jupyter-widgets/controls",
            "_model_module_version": "1.5.0",
            "value": 2016,
            "_view_count": null,
            "_view_module_version": "1.5.0",
            "orientation": "horizontal",
            "min": 0,
            "description_tooltip": null,
            "_model_module": "@jupyter-widgets/controls",
            "layout": "IPY_MODEL_7ecd1bb58c5943a0b6283da37154ea43"
          }
        },
        "ba85ed53bed44b9487963058b95c9f07": {
          "model_module": "@jupyter-widgets/controls",
          "model_name": "HTMLModel",
          "state": {
            "_view_name": "HTMLView",
            "style": "IPY_MODEL_03b0fb62411c407c935ac75bc93db84d",
            "_dom_classes": [],
            "description": "",
            "_model_name": "HTMLModel",
            "placeholder": "​",
            "_view_module": "@jupyter-widgets/controls",
            "_model_module_version": "1.5.0",
            "value": " 2016/2016 [02:14&lt;00:00, 15.02it/s]",
            "_view_count": null,
            "_view_module_version": "1.5.0",
            "description_tooltip": null,
            "_model_module": "@jupyter-widgets/controls",
            "layout": "IPY_MODEL_cda5cfff5f0d4e60bcb34b2219c5c27c"
          }
        },
        "682d473d9ba54533a7409959bb341c29": {
          "model_module": "@jupyter-widgets/controls",
          "model_name": "ProgressStyleModel",
          "state": {
            "_view_name": "StyleView",
            "_model_name": "ProgressStyleModel",
            "description_width": "initial",
            "_view_module": "@jupyter-widgets/base",
            "_model_module_version": "1.5.0",
            "_view_count": null,
            "_view_module_version": "1.2.0",
            "bar_color": null,
            "_model_module": "@jupyter-widgets/controls"
          }
        },
        "7ecd1bb58c5943a0b6283da37154ea43": {
          "model_module": "@jupyter-widgets/base",
          "model_name": "LayoutModel",
          "state": {
            "_view_name": "LayoutView",
            "grid_template_rows": null,
            "right": null,
            "justify_content": null,
            "_view_module": "@jupyter-widgets/base",
            "overflow": null,
            "_model_module_version": "1.2.0",
            "_view_count": null,
            "flex_flow": null,
            "width": null,
            "min_width": null,
            "border": null,
            "align_items": null,
            "bottom": null,
            "_model_module": "@jupyter-widgets/base",
            "top": null,
            "grid_column": null,
            "overflow_y": null,
            "overflow_x": null,
            "grid_auto_flow": null,
            "grid_area": null,
            "grid_template_columns": null,
            "flex": null,
            "_model_name": "LayoutModel",
            "justify_items": null,
            "grid_row": null,
            "max_height": null,
            "align_content": null,
            "visibility": null,
            "align_self": null,
            "height": null,
            "min_height": null,
            "padding": null,
            "grid_auto_rows": null,
            "grid_gap": null,
            "max_width": null,
            "order": null,
            "_view_module_version": "1.2.0",
            "grid_template_areas": null,
            "object_position": null,
            "object_fit": null,
            "grid_auto_columns": null,
            "margin": null,
            "display": null,
            "left": null
          }
        },
        "03b0fb62411c407c935ac75bc93db84d": {
          "model_module": "@jupyter-widgets/controls",
          "model_name": "DescriptionStyleModel",
          "state": {
            "_view_name": "StyleView",
            "_model_name": "DescriptionStyleModel",
            "description_width": "",
            "_view_module": "@jupyter-widgets/base",
            "_model_module_version": "1.5.0",
            "_view_count": null,
            "_view_module_version": "1.2.0",
            "_model_module": "@jupyter-widgets/controls"
          }
        },
        "cda5cfff5f0d4e60bcb34b2219c5c27c": {
          "model_module": "@jupyter-widgets/base",
          "model_name": "LayoutModel",
          "state": {
            "_view_name": "LayoutView",
            "grid_template_rows": null,
            "right": null,
            "justify_content": null,
            "_view_module": "@jupyter-widgets/base",
            "overflow": null,
            "_model_module_version": "1.2.0",
            "_view_count": null,
            "flex_flow": null,
            "width": null,
            "min_width": null,
            "border": null,
            "align_items": null,
            "bottom": null,
            "_model_module": "@jupyter-widgets/base",
            "top": null,
            "grid_column": null,
            "overflow_y": null,
            "overflow_x": null,
            "grid_auto_flow": null,
            "grid_area": null,
            "grid_template_columns": null,
            "flex": null,
            "_model_name": "LayoutModel",
            "justify_items": null,
            "grid_row": null,
            "max_height": null,
            "align_content": null,
            "visibility": null,
            "align_self": null,
            "height": null,
            "min_height": null,
            "padding": null,
            "grid_auto_rows": null,
            "grid_gap": null,
            "max_width": null,
            "order": null,
            "_view_module_version": "1.2.0",
            "grid_template_areas": null,
            "object_position": null,
            "object_fit": null,
            "grid_auto_columns": null,
            "margin": null,
            "display": null,
            "left": null
          }
        },
        "79177970f0644c47bc9ecb59dac95e8f": {
          "model_module": "@jupyter-widgets/controls",
          "model_name": "HBoxModel",
          "state": {
            "_view_name": "HBoxView",
            "_dom_classes": [],
            "_model_name": "HBoxModel",
            "_view_module": "@jupyter-widgets/controls",
            "_model_module_version": "1.5.0",
            "_view_count": null,
            "_view_module_version": "1.5.0",
            "box_style": "",
            "layout": "IPY_MODEL_d6a7d4056f834e3c93d27b5186abcbed",
            "_model_module": "@jupyter-widgets/controls",
            "children": [
              "IPY_MODEL_ff4367260247457492714f1c7051efe2",
              "IPY_MODEL_8f135facf1d24316a53902acd4b606ba"
            ]
          }
        },
        "d6a7d4056f834e3c93d27b5186abcbed": {
          "model_module": "@jupyter-widgets/base",
          "model_name": "LayoutModel",
          "state": {
            "_view_name": "LayoutView",
            "grid_template_rows": null,
            "right": null,
            "justify_content": null,
            "_view_module": "@jupyter-widgets/base",
            "overflow": null,
            "_model_module_version": "1.2.0",
            "_view_count": null,
            "flex_flow": null,
            "width": null,
            "min_width": null,
            "border": null,
            "align_items": null,
            "bottom": null,
            "_model_module": "@jupyter-widgets/base",
            "top": null,
            "grid_column": null,
            "overflow_y": null,
            "overflow_x": null,
            "grid_auto_flow": null,
            "grid_area": null,
            "grid_template_columns": null,
            "flex": null,
            "_model_name": "LayoutModel",
            "justify_items": null,
            "grid_row": null,
            "max_height": null,
            "align_content": null,
            "visibility": null,
            "align_self": null,
            "height": null,
            "min_height": null,
            "padding": null,
            "grid_auto_rows": null,
            "grid_gap": null,
            "max_width": null,
            "order": null,
            "_view_module_version": "1.2.0",
            "grid_template_areas": null,
            "object_position": null,
            "object_fit": null,
            "grid_auto_columns": null,
            "margin": null,
            "display": null,
            "left": null
          }
        },
        "ff4367260247457492714f1c7051efe2": {
          "model_module": "@jupyter-widgets/controls",
          "model_name": "FloatProgressModel",
          "state": {
            "_view_name": "ProgressView",
            "style": "IPY_MODEL_ba2a870392034bc78a2aee664f06d944",
            "_dom_classes": [],
            "description": "Downloading: 100%",
            "_model_name": "FloatProgressModel",
            "bar_style": "success",
            "max": 482,
            "_view_module": "@jupyter-widgets/controls",
            "_model_module_version": "1.5.0",
            "value": 482,
            "_view_count": null,
            "_view_module_version": "1.5.0",
            "orientation": "horizontal",
            "min": 0,
            "description_tooltip": null,
            "_model_module": "@jupyter-widgets/controls",
            "layout": "IPY_MODEL_b59dd8890a5a44f38beb8372c5268c21"
          }
        },
        "8f135facf1d24316a53902acd4b606ba": {
          "model_module": "@jupyter-widgets/controls",
          "model_name": "HTMLModel",
          "state": {
            "_view_name": "HTMLView",
            "style": "IPY_MODEL_6efd95cd4ac5471280e97f773be2f67b",
            "_dom_classes": [],
            "description": "",
            "_model_name": "HTMLModel",
            "placeholder": "​",
            "_view_module": "@jupyter-widgets/controls",
            "_model_module_version": "1.5.0",
            "value": " 482/482 [00:00&lt;00:00, 672B/s]",
            "_view_count": null,
            "_view_module_version": "1.5.0",
            "description_tooltip": null,
            "_model_module": "@jupyter-widgets/controls",
            "layout": "IPY_MODEL_04894f990d86430395cdb090798e322c"
          }
        },
        "ba2a870392034bc78a2aee664f06d944": {
          "model_module": "@jupyter-widgets/controls",
          "model_name": "ProgressStyleModel",
          "state": {
            "_view_name": "StyleView",
            "_model_name": "ProgressStyleModel",
            "description_width": "initial",
            "_view_module": "@jupyter-widgets/base",
            "_model_module_version": "1.5.0",
            "_view_count": null,
            "_view_module_version": "1.2.0",
            "bar_color": null,
            "_model_module": "@jupyter-widgets/controls"
          }
        },
        "b59dd8890a5a44f38beb8372c5268c21": {
          "model_module": "@jupyter-widgets/base",
          "model_name": "LayoutModel",
          "state": {
            "_view_name": "LayoutView",
            "grid_template_rows": null,
            "right": null,
            "justify_content": null,
            "_view_module": "@jupyter-widgets/base",
            "overflow": null,
            "_model_module_version": "1.2.0",
            "_view_count": null,
            "flex_flow": null,
            "width": null,
            "min_width": null,
            "border": null,
            "align_items": null,
            "bottom": null,
            "_model_module": "@jupyter-widgets/base",
            "top": null,
            "grid_column": null,
            "overflow_y": null,
            "overflow_x": null,
            "grid_auto_flow": null,
            "grid_area": null,
            "grid_template_columns": null,
            "flex": null,
            "_model_name": "LayoutModel",
            "justify_items": null,
            "grid_row": null,
            "max_height": null,
            "align_content": null,
            "visibility": null,
            "align_self": null,
            "height": null,
            "min_height": null,
            "padding": null,
            "grid_auto_rows": null,
            "grid_gap": null,
            "max_width": null,
            "order": null,
            "_view_module_version": "1.2.0",
            "grid_template_areas": null,
            "object_position": null,
            "object_fit": null,
            "grid_auto_columns": null,
            "margin": null,
            "display": null,
            "left": null
          }
        },
        "6efd95cd4ac5471280e97f773be2f67b": {
          "model_module": "@jupyter-widgets/controls",
          "model_name": "DescriptionStyleModel",
          "state": {
            "_view_name": "StyleView",
            "_model_name": "DescriptionStyleModel",
            "description_width": "",
            "_view_module": "@jupyter-widgets/base",
            "_model_module_version": "1.5.0",
            "_view_count": null,
            "_view_module_version": "1.2.0",
            "_model_module": "@jupyter-widgets/controls"
          }
        },
        "04894f990d86430395cdb090798e322c": {
          "model_module": "@jupyter-widgets/base",
          "model_name": "LayoutModel",
          "state": {
            "_view_name": "LayoutView",
            "grid_template_rows": null,
            "right": null,
            "justify_content": null,
            "_view_module": "@jupyter-widgets/base",
            "overflow": null,
            "_model_module_version": "1.2.0",
            "_view_count": null,
            "flex_flow": null,
            "width": null,
            "min_width": null,
            "border": null,
            "align_items": null,
            "bottom": null,
            "_model_module": "@jupyter-widgets/base",
            "top": null,
            "grid_column": null,
            "overflow_y": null,
            "overflow_x": null,
            "grid_auto_flow": null,
            "grid_area": null,
            "grid_template_columns": null,
            "flex": null,
            "_model_name": "LayoutModel",
            "justify_items": null,
            "grid_row": null,
            "max_height": null,
            "align_content": null,
            "visibility": null,
            "align_self": null,
            "height": null,
            "min_height": null,
            "padding": null,
            "grid_auto_rows": null,
            "grid_gap": null,
            "max_width": null,
            "order": null,
            "_view_module_version": "1.2.0",
            "grid_template_areas": null,
            "object_position": null,
            "object_fit": null,
            "grid_auto_columns": null,
            "margin": null,
            "display": null,
            "left": null
          }
        },
        "ac3c2d35f0b84769aeca9c7f35c1b0f8": {
          "model_module": "@jupyter-widgets/controls",
          "model_name": "HBoxModel",
          "state": {
            "_view_name": "HBoxView",
            "_dom_classes": [],
            "_model_name": "HBoxModel",
            "_view_module": "@jupyter-widgets/controls",
            "_model_module_version": "1.5.0",
            "_view_count": null,
            "_view_module_version": "1.5.0",
            "box_style": "",
            "layout": "IPY_MODEL_255d7701d6554a0e83204955793822f6",
            "_model_module": "@jupyter-widgets/controls",
            "children": [
              "IPY_MODEL_c95b478c400441a3a09e7a4d6a934f0a",
              "IPY_MODEL_a04b4a1037034adbb905baa7214f0d05"
            ]
          }
        },
        "255d7701d6554a0e83204955793822f6": {
          "model_module": "@jupyter-widgets/base",
          "model_name": "LayoutModel",
          "state": {
            "_view_name": "LayoutView",
            "grid_template_rows": null,
            "right": null,
            "justify_content": null,
            "_view_module": "@jupyter-widgets/base",
            "overflow": null,
            "_model_module_version": "1.2.0",
            "_view_count": null,
            "flex_flow": null,
            "width": null,
            "min_width": null,
            "border": null,
            "align_items": null,
            "bottom": null,
            "_model_module": "@jupyter-widgets/base",
            "top": null,
            "grid_column": null,
            "overflow_y": null,
            "overflow_x": null,
            "grid_auto_flow": null,
            "grid_area": null,
            "grid_template_columns": null,
            "flex": null,
            "_model_name": "LayoutModel",
            "justify_items": null,
            "grid_row": null,
            "max_height": null,
            "align_content": null,
            "visibility": null,
            "align_self": null,
            "height": null,
            "min_height": null,
            "padding": null,
            "grid_auto_rows": null,
            "grid_gap": null,
            "max_width": null,
            "order": null,
            "_view_module_version": "1.2.0",
            "grid_template_areas": null,
            "object_position": null,
            "object_fit": null,
            "grid_auto_columns": null,
            "margin": null,
            "display": null,
            "left": null
          }
        },
        "c95b478c400441a3a09e7a4d6a934f0a": {
          "model_module": "@jupyter-widgets/controls",
          "model_name": "FloatProgressModel",
          "state": {
            "_view_name": "ProgressView",
            "style": "IPY_MODEL_efbbc01e05984fe0b5744f5add55aea4",
            "_dom_classes": [],
            "description": "Downloading: 100%",
            "_model_name": "FloatProgressModel",
            "bar_style": "success",
            "max": 1425941629,
            "_view_module": "@jupyter-widgets/controls",
            "_model_module_version": "1.5.0",
            "value": 1425941629,
            "_view_count": null,
            "_view_module_version": "1.5.0",
            "orientation": "horizontal",
            "min": 0,
            "description_tooltip": null,
            "_model_module": "@jupyter-widgets/controls",
            "layout": "IPY_MODEL_0b2ca6a09d7d415fb8cd05bb0e36fe1d"
          }
        },
        "a04b4a1037034adbb905baa7214f0d05": {
          "model_module": "@jupyter-widgets/controls",
          "model_name": "HTMLModel",
          "state": {
            "_view_name": "HTMLView",
            "style": "IPY_MODEL_da6fc6a9ae9f4329892fbcfca12acff2",
            "_dom_classes": [],
            "description": "",
            "_model_name": "HTMLModel",
            "placeholder": "​",
            "_view_module": "@jupyter-widgets/controls",
            "_model_module_version": "1.5.0",
            "value": " 1.43G/1.43G [00:36&lt;00:00, 39.1MB/s]",
            "_view_count": null,
            "_view_module_version": "1.5.0",
            "description_tooltip": null,
            "_model_module": "@jupyter-widgets/controls",
            "layout": "IPY_MODEL_164629bdbb784c7bbadc7d866117e6ec"
          }
        },
        "efbbc01e05984fe0b5744f5add55aea4": {
          "model_module": "@jupyter-widgets/controls",
          "model_name": "ProgressStyleModel",
          "state": {
            "_view_name": "StyleView",
            "_model_name": "ProgressStyleModel",
            "description_width": "initial",
            "_view_module": "@jupyter-widgets/base",
            "_model_module_version": "1.5.0",
            "_view_count": null,
            "_view_module_version": "1.2.0",
            "bar_color": null,
            "_model_module": "@jupyter-widgets/controls"
          }
        },
        "0b2ca6a09d7d415fb8cd05bb0e36fe1d": {
          "model_module": "@jupyter-widgets/base",
          "model_name": "LayoutModel",
          "state": {
            "_view_name": "LayoutView",
            "grid_template_rows": null,
            "right": null,
            "justify_content": null,
            "_view_module": "@jupyter-widgets/base",
            "overflow": null,
            "_model_module_version": "1.2.0",
            "_view_count": null,
            "flex_flow": null,
            "width": null,
            "min_width": null,
            "border": null,
            "align_items": null,
            "bottom": null,
            "_model_module": "@jupyter-widgets/base",
            "top": null,
            "grid_column": null,
            "overflow_y": null,
            "overflow_x": null,
            "grid_auto_flow": null,
            "grid_area": null,
            "grid_template_columns": null,
            "flex": null,
            "_model_name": "LayoutModel",
            "justify_items": null,
            "grid_row": null,
            "max_height": null,
            "align_content": null,
            "visibility": null,
            "align_self": null,
            "height": null,
            "min_height": null,
            "padding": null,
            "grid_auto_rows": null,
            "grid_gap": null,
            "max_width": null,
            "order": null,
            "_view_module_version": "1.2.0",
            "grid_template_areas": null,
            "object_position": null,
            "object_fit": null,
            "grid_auto_columns": null,
            "margin": null,
            "display": null,
            "left": null
          }
        },
        "da6fc6a9ae9f4329892fbcfca12acff2": {
          "model_module": "@jupyter-widgets/controls",
          "model_name": "DescriptionStyleModel",
          "state": {
            "_view_name": "StyleView",
            "_model_name": "DescriptionStyleModel",
            "description_width": "",
            "_view_module": "@jupyter-widgets/base",
            "_model_module_version": "1.5.0",
            "_view_count": null,
            "_view_module_version": "1.2.0",
            "_model_module": "@jupyter-widgets/controls"
          }
        },
        "164629bdbb784c7bbadc7d866117e6ec": {
          "model_module": "@jupyter-widgets/base",
          "model_name": "LayoutModel",
          "state": {
            "_view_name": "LayoutView",
            "grid_template_rows": null,
            "right": null,
            "justify_content": null,
            "_view_module": "@jupyter-widgets/base",
            "overflow": null,
            "_model_module_version": "1.2.0",
            "_view_count": null,
            "flex_flow": null,
            "width": null,
            "min_width": null,
            "border": null,
            "align_items": null,
            "bottom": null,
            "_model_module": "@jupyter-widgets/base",
            "top": null,
            "grid_column": null,
            "overflow_y": null,
            "overflow_x": null,
            "grid_auto_flow": null,
            "grid_area": null,
            "grid_template_columns": null,
            "flex": null,
            "_model_name": "LayoutModel",
            "justify_items": null,
            "grid_row": null,
            "max_height": null,
            "align_content": null,
            "visibility": null,
            "align_self": null,
            "height": null,
            "min_height": null,
            "padding": null,
            "grid_auto_rows": null,
            "grid_gap": null,
            "max_width": null,
            "order": null,
            "_view_module_version": "1.2.0",
            "grid_template_areas": null,
            "object_position": null,
            "object_fit": null,
            "grid_auto_columns": null,
            "margin": null,
            "display": null,
            "left": null
          }
        },
        "b96d2e3a411f4f16b66654e746fbfcfa": {
          "model_module": "@jupyter-widgets/controls",
          "model_name": "HBoxModel",
          "state": {
            "_view_name": "HBoxView",
            "_dom_classes": [],
            "_model_name": "HBoxModel",
            "_view_module": "@jupyter-widgets/controls",
            "_model_module_version": "1.5.0",
            "_view_count": null,
            "_view_module_version": "1.5.0",
            "box_style": "",
            "layout": "IPY_MODEL_ef1b49fbaead4e8da507d6e4d667a925",
            "_model_module": "@jupyter-widgets/controls",
            "children": [
              "IPY_MODEL_2993c2709313458fb49c9139a7c41860",
              "IPY_MODEL_78b9d8939812439ba4b0807ad1b8e559"
            ]
          }
        },
        "ef1b49fbaead4e8da507d6e4d667a925": {
          "model_module": "@jupyter-widgets/base",
          "model_name": "LayoutModel",
          "state": {
            "_view_name": "LayoutView",
            "grid_template_rows": null,
            "right": null,
            "justify_content": null,
            "_view_module": "@jupyter-widgets/base",
            "overflow": null,
            "_model_module_version": "1.2.0",
            "_view_count": null,
            "flex_flow": null,
            "width": null,
            "min_width": null,
            "border": null,
            "align_items": null,
            "bottom": null,
            "_model_module": "@jupyter-widgets/base",
            "top": null,
            "grid_column": null,
            "overflow_y": null,
            "overflow_x": null,
            "grid_auto_flow": null,
            "grid_area": null,
            "grid_template_columns": null,
            "flex": null,
            "_model_name": "LayoutModel",
            "justify_items": null,
            "grid_row": null,
            "max_height": null,
            "align_content": null,
            "visibility": null,
            "align_self": null,
            "height": null,
            "min_height": null,
            "padding": null,
            "grid_auto_rows": null,
            "grid_gap": null,
            "max_width": null,
            "order": null,
            "_view_module_version": "1.2.0",
            "grid_template_areas": null,
            "object_position": null,
            "object_fit": null,
            "grid_auto_columns": null,
            "margin": null,
            "display": null,
            "left": null
          }
        },
        "2993c2709313458fb49c9139a7c41860": {
          "model_module": "@jupyter-widgets/controls",
          "model_name": "FloatProgressModel",
          "state": {
            "_view_name": "ProgressView",
            "style": "IPY_MODEL_37d01934acd8499093005ff289e17686",
            "_dom_classes": [],
            "description": "Downloading: 100%",
            "_model_name": "FloatProgressModel",
            "bar_style": "success",
            "max": 898823,
            "_view_module": "@jupyter-widgets/controls",
            "_model_module_version": "1.5.0",
            "value": 898823,
            "_view_count": null,
            "_view_module_version": "1.5.0",
            "orientation": "horizontal",
            "min": 0,
            "description_tooltip": null,
            "_model_module": "@jupyter-widgets/controls",
            "layout": "IPY_MODEL_dc1c1d89b2824a06b57f1a37db8de2e4"
          }
        },
        "78b9d8939812439ba4b0807ad1b8e559": {
          "model_module": "@jupyter-widgets/controls",
          "model_name": "HTMLModel",
          "state": {
            "_view_name": "HTMLView",
            "style": "IPY_MODEL_3ab78b7ea3ae4715849498b9fe05014b",
            "_dom_classes": [],
            "description": "",
            "_model_name": "HTMLModel",
            "placeholder": "​",
            "_view_module": "@jupyter-widgets/controls",
            "_model_module_version": "1.5.0",
            "value": " 899k/899k [00:01&lt;00:00, 686kB/s]",
            "_view_count": null,
            "_view_module_version": "1.5.0",
            "description_tooltip": null,
            "_model_module": "@jupyter-widgets/controls",
            "layout": "IPY_MODEL_4a11673bef22445abf6dc6437614db67"
          }
        },
        "37d01934acd8499093005ff289e17686": {
          "model_module": "@jupyter-widgets/controls",
          "model_name": "ProgressStyleModel",
          "state": {
            "_view_name": "StyleView",
            "_model_name": "ProgressStyleModel",
            "description_width": "initial",
            "_view_module": "@jupyter-widgets/base",
            "_model_module_version": "1.5.0",
            "_view_count": null,
            "_view_module_version": "1.2.0",
            "bar_color": null,
            "_model_module": "@jupyter-widgets/controls"
          }
        },
        "dc1c1d89b2824a06b57f1a37db8de2e4": {
          "model_module": "@jupyter-widgets/base",
          "model_name": "LayoutModel",
          "state": {
            "_view_name": "LayoutView",
            "grid_template_rows": null,
            "right": null,
            "justify_content": null,
            "_view_module": "@jupyter-widgets/base",
            "overflow": null,
            "_model_module_version": "1.2.0",
            "_view_count": null,
            "flex_flow": null,
            "width": null,
            "min_width": null,
            "border": null,
            "align_items": null,
            "bottom": null,
            "_model_module": "@jupyter-widgets/base",
            "top": null,
            "grid_column": null,
            "overflow_y": null,
            "overflow_x": null,
            "grid_auto_flow": null,
            "grid_area": null,
            "grid_template_columns": null,
            "flex": null,
            "_model_name": "LayoutModel",
            "justify_items": null,
            "grid_row": null,
            "max_height": null,
            "align_content": null,
            "visibility": null,
            "align_self": null,
            "height": null,
            "min_height": null,
            "padding": null,
            "grid_auto_rows": null,
            "grid_gap": null,
            "max_width": null,
            "order": null,
            "_view_module_version": "1.2.0",
            "grid_template_areas": null,
            "object_position": null,
            "object_fit": null,
            "grid_auto_columns": null,
            "margin": null,
            "display": null,
            "left": null
          }
        },
        "3ab78b7ea3ae4715849498b9fe05014b": {
          "model_module": "@jupyter-widgets/controls",
          "model_name": "DescriptionStyleModel",
          "state": {
            "_view_name": "StyleView",
            "_model_name": "DescriptionStyleModel",
            "description_width": "",
            "_view_module": "@jupyter-widgets/base",
            "_model_module_version": "1.5.0",
            "_view_count": null,
            "_view_module_version": "1.2.0",
            "_model_module": "@jupyter-widgets/controls"
          }
        },
        "4a11673bef22445abf6dc6437614db67": {
          "model_module": "@jupyter-widgets/base",
          "model_name": "LayoutModel",
          "state": {
            "_view_name": "LayoutView",
            "grid_template_rows": null,
            "right": null,
            "justify_content": null,
            "_view_module": "@jupyter-widgets/base",
            "overflow": null,
            "_model_module_version": "1.2.0",
            "_view_count": null,
            "flex_flow": null,
            "width": null,
            "min_width": null,
            "border": null,
            "align_items": null,
            "bottom": null,
            "_model_module": "@jupyter-widgets/base",
            "top": null,
            "grid_column": null,
            "overflow_y": null,
            "overflow_x": null,
            "grid_auto_flow": null,
            "grid_area": null,
            "grid_template_columns": null,
            "flex": null,
            "_model_name": "LayoutModel",
            "justify_items": null,
            "grid_row": null,
            "max_height": null,
            "align_content": null,
            "visibility": null,
            "align_self": null,
            "height": null,
            "min_height": null,
            "padding": null,
            "grid_auto_rows": null,
            "grid_gap": null,
            "max_width": null,
            "order": null,
            "_view_module_version": "1.2.0",
            "grid_template_areas": null,
            "object_position": null,
            "object_fit": null,
            "grid_auto_columns": null,
            "margin": null,
            "display": null,
            "left": null
          }
        },
        "042ffa3ab838457d987449b5e8bfee8c": {
          "model_module": "@jupyter-widgets/controls",
          "model_name": "HBoxModel",
          "state": {
            "_view_name": "HBoxView",
            "_dom_classes": [],
            "_model_name": "HBoxModel",
            "_view_module": "@jupyter-widgets/controls",
            "_model_module_version": "1.5.0",
            "_view_count": null,
            "_view_module_version": "1.5.0",
            "box_style": "",
            "layout": "IPY_MODEL_5938e254140242bea2336126a08a089f",
            "_model_module": "@jupyter-widgets/controls",
            "children": [
              "IPY_MODEL_3a1c0589cfd84768a1b7fb1a72d995cb",
              "IPY_MODEL_bea6218e728148df8644fdc411fa1a56"
            ]
          }
        },
        "5938e254140242bea2336126a08a089f": {
          "model_module": "@jupyter-widgets/base",
          "model_name": "LayoutModel",
          "state": {
            "_view_name": "LayoutView",
            "grid_template_rows": null,
            "right": null,
            "justify_content": null,
            "_view_module": "@jupyter-widgets/base",
            "overflow": null,
            "_model_module_version": "1.2.0",
            "_view_count": null,
            "flex_flow": null,
            "width": null,
            "min_width": null,
            "border": null,
            "align_items": null,
            "bottom": null,
            "_model_module": "@jupyter-widgets/base",
            "top": null,
            "grid_column": null,
            "overflow_y": null,
            "overflow_x": null,
            "grid_auto_flow": null,
            "grid_area": null,
            "grid_template_columns": null,
            "flex": null,
            "_model_name": "LayoutModel",
            "justify_items": null,
            "grid_row": null,
            "max_height": null,
            "align_content": null,
            "visibility": null,
            "align_self": null,
            "height": null,
            "min_height": null,
            "padding": null,
            "grid_auto_rows": null,
            "grid_gap": null,
            "max_width": null,
            "order": null,
            "_view_module_version": "1.2.0",
            "grid_template_areas": null,
            "object_position": null,
            "object_fit": null,
            "grid_auto_columns": null,
            "margin": null,
            "display": null,
            "left": null
          }
        },
        "3a1c0589cfd84768a1b7fb1a72d995cb": {
          "model_module": "@jupyter-widgets/controls",
          "model_name": "FloatProgressModel",
          "state": {
            "_view_name": "ProgressView",
            "style": "IPY_MODEL_b3843702361643e79d36057f505351c3",
            "_dom_classes": [],
            "description": "Downloading: 100%",
            "_model_name": "FloatProgressModel",
            "bar_style": "success",
            "max": 456318,
            "_view_module": "@jupyter-widgets/controls",
            "_model_module_version": "1.5.0",
            "value": 456318,
            "_view_count": null,
            "_view_module_version": "1.5.0",
            "orientation": "horizontal",
            "min": 0,
            "description_tooltip": null,
            "_model_module": "@jupyter-widgets/controls",
            "layout": "IPY_MODEL_b886970bf5fc4ba0ad1805c4ceac6c55"
          }
        },
        "bea6218e728148df8644fdc411fa1a56": {
          "model_module": "@jupyter-widgets/controls",
          "model_name": "HTMLModel",
          "state": {
            "_view_name": "HTMLView",
            "style": "IPY_MODEL_2300178be4f64ba48b56d036231f88a0",
            "_dom_classes": [],
            "description": "",
            "_model_name": "HTMLModel",
            "placeholder": "​",
            "_view_module": "@jupyter-widgets/controls",
            "_model_module_version": "1.5.0",
            "value": " 456k/456k [00:00&lt;00:00, 1.43MB/s]",
            "_view_count": null,
            "_view_module_version": "1.5.0",
            "description_tooltip": null,
            "_model_module": "@jupyter-widgets/controls",
            "layout": "IPY_MODEL_f80e711fc98f44698a8cc57aaadc3a35"
          }
        },
        "b3843702361643e79d36057f505351c3": {
          "model_module": "@jupyter-widgets/controls",
          "model_name": "ProgressStyleModel",
          "state": {
            "_view_name": "StyleView",
            "_model_name": "ProgressStyleModel",
            "description_width": "initial",
            "_view_module": "@jupyter-widgets/base",
            "_model_module_version": "1.5.0",
            "_view_count": null,
            "_view_module_version": "1.2.0",
            "bar_color": null,
            "_model_module": "@jupyter-widgets/controls"
          }
        },
        "b886970bf5fc4ba0ad1805c4ceac6c55": {
          "model_module": "@jupyter-widgets/base",
          "model_name": "LayoutModel",
          "state": {
            "_view_name": "LayoutView",
            "grid_template_rows": null,
            "right": null,
            "justify_content": null,
            "_view_module": "@jupyter-widgets/base",
            "overflow": null,
            "_model_module_version": "1.2.0",
            "_view_count": null,
            "flex_flow": null,
            "width": null,
            "min_width": null,
            "border": null,
            "align_items": null,
            "bottom": null,
            "_model_module": "@jupyter-widgets/base",
            "top": null,
            "grid_column": null,
            "overflow_y": null,
            "overflow_x": null,
            "grid_auto_flow": null,
            "grid_area": null,
            "grid_template_columns": null,
            "flex": null,
            "_model_name": "LayoutModel",
            "justify_items": null,
            "grid_row": null,
            "max_height": null,
            "align_content": null,
            "visibility": null,
            "align_self": null,
            "height": null,
            "min_height": null,
            "padding": null,
            "grid_auto_rows": null,
            "grid_gap": null,
            "max_width": null,
            "order": null,
            "_view_module_version": "1.2.0",
            "grid_template_areas": null,
            "object_position": null,
            "object_fit": null,
            "grid_auto_columns": null,
            "margin": null,
            "display": null,
            "left": null
          }
        },
        "2300178be4f64ba48b56d036231f88a0": {
          "model_module": "@jupyter-widgets/controls",
          "model_name": "DescriptionStyleModel",
          "state": {
            "_view_name": "StyleView",
            "_model_name": "DescriptionStyleModel",
            "description_width": "",
            "_view_module": "@jupyter-widgets/base",
            "_model_module_version": "1.5.0",
            "_view_count": null,
            "_view_module_version": "1.2.0",
            "_model_module": "@jupyter-widgets/controls"
          }
        },
        "f80e711fc98f44698a8cc57aaadc3a35": {
          "model_module": "@jupyter-widgets/base",
          "model_name": "LayoutModel",
          "state": {
            "_view_name": "LayoutView",
            "grid_template_rows": null,
            "right": null,
            "justify_content": null,
            "_view_module": "@jupyter-widgets/base",
            "overflow": null,
            "_model_module_version": "1.2.0",
            "_view_count": null,
            "flex_flow": null,
            "width": null,
            "min_width": null,
            "border": null,
            "align_items": null,
            "bottom": null,
            "_model_module": "@jupyter-widgets/base",
            "top": null,
            "grid_column": null,
            "overflow_y": null,
            "overflow_x": null,
            "grid_auto_flow": null,
            "grid_area": null,
            "grid_template_columns": null,
            "flex": null,
            "_model_name": "LayoutModel",
            "justify_items": null,
            "grid_row": null,
            "max_height": null,
            "align_content": null,
            "visibility": null,
            "align_self": null,
            "height": null,
            "min_height": null,
            "padding": null,
            "grid_auto_rows": null,
            "grid_gap": null,
            "max_width": null,
            "order": null,
            "_view_module_version": "1.2.0",
            "grid_template_areas": null,
            "object_position": null,
            "object_fit": null,
            "grid_auto_columns": null,
            "margin": null,
            "display": null,
            "left": null
          }
        },
        "516effda04744d348ef4a5340cdfca5b": {
          "model_module": "@jupyter-widgets/controls",
          "model_name": "HBoxModel",
          "state": {
            "_view_name": "HBoxView",
            "_dom_classes": [],
            "_model_name": "HBoxModel",
            "_view_module": "@jupyter-widgets/controls",
            "_model_module_version": "1.5.0",
            "_view_count": null,
            "_view_module_version": "1.5.0",
            "box_style": "",
            "layout": "IPY_MODEL_c3ab02c75d464d96a4d0fa7b774cd43c",
            "_model_module": "@jupyter-widgets/controls",
            "children": [
              "IPY_MODEL_b43f3da330d7436180cc2e79dcff60b9",
              "IPY_MODEL_2a48711d951940c7b16e16f20e0a5976"
            ]
          }
        },
        "c3ab02c75d464d96a4d0fa7b774cd43c": {
          "model_module": "@jupyter-widgets/base",
          "model_name": "LayoutModel",
          "state": {
            "_view_name": "LayoutView",
            "grid_template_rows": null,
            "right": null,
            "justify_content": null,
            "_view_module": "@jupyter-widgets/base",
            "overflow": null,
            "_model_module_version": "1.2.0",
            "_view_count": null,
            "flex_flow": null,
            "width": null,
            "min_width": null,
            "border": null,
            "align_items": null,
            "bottom": null,
            "_model_module": "@jupyter-widgets/base",
            "top": null,
            "grid_column": null,
            "overflow_y": null,
            "overflow_x": null,
            "grid_auto_flow": null,
            "grid_area": null,
            "grid_template_columns": null,
            "flex": null,
            "_model_name": "LayoutModel",
            "justify_items": null,
            "grid_row": null,
            "max_height": null,
            "align_content": null,
            "visibility": null,
            "align_self": null,
            "height": null,
            "min_height": null,
            "padding": null,
            "grid_auto_rows": null,
            "grid_gap": null,
            "max_width": null,
            "order": null,
            "_view_module_version": "1.2.0",
            "grid_template_areas": null,
            "object_position": null,
            "object_fit": null,
            "grid_auto_columns": null,
            "margin": null,
            "display": null,
            "left": null
          }
        },
        "b43f3da330d7436180cc2e79dcff60b9": {
          "model_module": "@jupyter-widgets/controls",
          "model_name": "FloatProgressModel",
          "state": {
            "_view_name": "ProgressView",
            "style": "IPY_MODEL_27e6421e02f34ad79bd464a5ee3cce6d",
            "_dom_classes": [],
            "description": "100%",
            "_model_name": "FloatProgressModel",
            "bar_style": "success",
            "max": 2016,
            "_view_module": "@jupyter-widgets/controls",
            "_model_module_version": "1.5.0",
            "value": 2016,
            "_view_count": null,
            "_view_module_version": "1.5.0",
            "orientation": "horizontal",
            "min": 0,
            "description_tooltip": null,
            "_model_module": "@jupyter-widgets/controls",
            "layout": "IPY_MODEL_3def99827fde4cf091206edaf9429101"
          }
        },
        "2a48711d951940c7b16e16f20e0a5976": {
          "model_module": "@jupyter-widgets/controls",
          "model_name": "HTMLModel",
          "state": {
            "_view_name": "HTMLView",
            "style": "IPY_MODEL_1549e765333247b48797977059237132",
            "_dom_classes": [],
            "description": "",
            "_model_name": "HTMLModel",
            "placeholder": "​",
            "_view_module": "@jupyter-widgets/controls",
            "_model_module_version": "1.5.0",
            "value": " 2016/2016 [02:52&lt;00:00, 11.69it/s]",
            "_view_count": null,
            "_view_module_version": "1.5.0",
            "description_tooltip": null,
            "_model_module": "@jupyter-widgets/controls",
            "layout": "IPY_MODEL_b1efd91f13874c45ae2073e2cc70ac0e"
          }
        },
        "27e6421e02f34ad79bd464a5ee3cce6d": {
          "model_module": "@jupyter-widgets/controls",
          "model_name": "ProgressStyleModel",
          "state": {
            "_view_name": "StyleView",
            "_model_name": "ProgressStyleModel",
            "description_width": "initial",
            "_view_module": "@jupyter-widgets/base",
            "_model_module_version": "1.5.0",
            "_view_count": null,
            "_view_module_version": "1.2.0",
            "bar_color": null,
            "_model_module": "@jupyter-widgets/controls"
          }
        },
        "3def99827fde4cf091206edaf9429101": {
          "model_module": "@jupyter-widgets/base",
          "model_name": "LayoutModel",
          "state": {
            "_view_name": "LayoutView",
            "grid_template_rows": null,
            "right": null,
            "justify_content": null,
            "_view_module": "@jupyter-widgets/base",
            "overflow": null,
            "_model_module_version": "1.2.0",
            "_view_count": null,
            "flex_flow": null,
            "width": null,
            "min_width": null,
            "border": null,
            "align_items": null,
            "bottom": null,
            "_model_module": "@jupyter-widgets/base",
            "top": null,
            "grid_column": null,
            "overflow_y": null,
            "overflow_x": null,
            "grid_auto_flow": null,
            "grid_area": null,
            "grid_template_columns": null,
            "flex": null,
            "_model_name": "LayoutModel",
            "justify_items": null,
            "grid_row": null,
            "max_height": null,
            "align_content": null,
            "visibility": null,
            "align_self": null,
            "height": null,
            "min_height": null,
            "padding": null,
            "grid_auto_rows": null,
            "grid_gap": null,
            "max_width": null,
            "order": null,
            "_view_module_version": "1.2.0",
            "grid_template_areas": null,
            "object_position": null,
            "object_fit": null,
            "grid_auto_columns": null,
            "margin": null,
            "display": null,
            "left": null
          }
        },
        "1549e765333247b48797977059237132": {
          "model_module": "@jupyter-widgets/controls",
          "model_name": "DescriptionStyleModel",
          "state": {
            "_view_name": "StyleView",
            "_model_name": "DescriptionStyleModel",
            "description_width": "",
            "_view_module": "@jupyter-widgets/base",
            "_model_module_version": "1.5.0",
            "_view_count": null,
            "_view_module_version": "1.2.0",
            "_model_module": "@jupyter-widgets/controls"
          }
        },
        "b1efd91f13874c45ae2073e2cc70ac0e": {
          "model_module": "@jupyter-widgets/base",
          "model_name": "LayoutModel",
          "state": {
            "_view_name": "LayoutView",
            "grid_template_rows": null,
            "right": null,
            "justify_content": null,
            "_view_module": "@jupyter-widgets/base",
            "overflow": null,
            "_model_module_version": "1.2.0",
            "_view_count": null,
            "flex_flow": null,
            "width": null,
            "min_width": null,
            "border": null,
            "align_items": null,
            "bottom": null,
            "_model_module": "@jupyter-widgets/base",
            "top": null,
            "grid_column": null,
            "overflow_y": null,
            "overflow_x": null,
            "grid_auto_flow": null,
            "grid_area": null,
            "grid_template_columns": null,
            "flex": null,
            "_model_name": "LayoutModel",
            "justify_items": null,
            "grid_row": null,
            "max_height": null,
            "align_content": null,
            "visibility": null,
            "align_self": null,
            "height": null,
            "min_height": null,
            "padding": null,
            "grid_auto_rows": null,
            "grid_gap": null,
            "max_width": null,
            "order": null,
            "_view_module_version": "1.2.0",
            "grid_template_areas": null,
            "object_position": null,
            "object_fit": null,
            "grid_auto_columns": null,
            "margin": null,
            "display": null,
            "left": null
          }
        }
      }
    }
  },
  "cells": [
    {
      "cell_type": "markdown",
      "metadata": {
        "id": "view-in-github",
        "colab_type": "text"
      },
      "source": [
        "<a href=\"https://colab.research.google.com/github/NileshPranami/SciBert/blob/master/Scientific_Summarization.ipynb\" target=\"_parent\"><img src=\"https://colab.research.google.com/assets/colab-badge.svg\" alt=\"Open In Colab\"/></a>"
      ]
    },
    {
      "cell_type": "markdown",
      "metadata": {
        "id": "2IgqW7uIQfq2",
        "colab_type": "text"
      },
      "source": [
        "# **Setting up Runtime**"
      ]
    },
    {
      "cell_type": "code",
      "metadata": {
        "id": "0MIJ7z4lOC7R",
        "colab_type": "code",
        "colab": {}
      },
      "source": [
        "import os\n",
        "import sys\n",
        "\n",
        "if not os.path.exists('old_runtime'):\n",
        "    !touch old_runtime\n",
        "    !wget https://cs.stanford.edu/~myasu/projects/scisumm_net/scisummnet_release1.1__20190413.zip > /dev/null\n",
        "    !unzip scisummnet_release1.1__20190413.zip > /dev/null\n",
        "    !git clone https://github.com/WING-NUS/scisumm-corpus.git > /dev/null\n",
        "    !pip install -U sentence-transformers\n",
        "    \n",
        "    !pip install allennlp==1.0.0rc1 allennlp-models==1.0.0rc1 > /dev/null\n",
        "    !pip install rouge > /dev/null\n",
        "    \n",
        "    !wget https://storage.googleapis.com/allennlp-public-models/snli-roberta-large-2020.02.27.tar.gz\n",
        "    \n",
        "    !git clone https://github.com/dandynaufaldi/particle-swarm-optimized-clustering pso\n",
        "    !touch /content/pso/__init__.py\n",
        "    !sudo apt-get install libxml-parser-perl\n",
        "    \n",
        "    # downloading GoogleNews-vectors-negative300.bin.gz\n",
        "    !FILEID=0B7XkCwpI5KDYNlNUTTlSS21pQmM && FILENAME=GoogleNews-vectors-negative300.bin.gz && wget --load-cookies /tmp/cookies.txt \"https://docs.google.com/uc?export=download&confirm=$(wget --quiet --save-cookies /tmp/cookies.txt --keep-session-cookies --no-check-certificate 'https://docs.google.com/uc?export=download&id='$FILEID -O- | sed -rn 's/.*confirm=([0-9A-Za-z_]+).*/\\1\\n/p')&id=\"$FILEID -O $FILENAME && rm -rf /tmp/cookies.\n",
        "    # !wget https://s3.amazonaws.com/dl4j-distribution/GoogleNews-vectors-negative300.bin.gz -o GoogleNews-vectors-negative300.bin.gz\n",
        "\n",
        "    !git clone https://github.com/tagucci/pythonrouge.git\n",
        "\n",
        "if not 'path_set_done' in os.environ:\n",
        "    os.environ['path_set_done'] = 'True'\n",
        "    sys.path.append(\"/content/pso\")\n",
        "    sys.path.append('/content/pythonrouge')\n",
        "    sys.path.append('/content/pythonrouge/pythonrouge/RELEASE-1.5.5/ROUGE-1.5.5.pl')\n",
        "    sys.path.append('/content/pythonrouge/pythonrouge/RELEASE-1.5.5/data')\n",
        "    os.environ['PYTHONPATH'] = f\"{os.environ['PYTHONPATH']}:/content/pso\"\n",
        "\n",
        "# sys.path\n",
        "# os.environ['PYTHONPATH']"
      ],
      "execution_count": 0,
      "outputs": []
    },
    {
      "cell_type": "markdown",
      "metadata": {
        "id": "ucpAC9x4Qkiq",
        "colab_type": "text"
      },
      "source": [
        "# **Import Packages**"
      ]
    },
    {
      "cell_type": "code",
      "metadata": {
        "id": "tfvJsm5HJ7ML",
        "colab_type": "code",
        "colab": {}
      },
      "source": [
        "from allennlp.predictors.predictor import Predictor\n",
        "import allennlp_models.nli\n",
        "import pandas as pd\n",
        "import numpy as np\n",
        "import nltk\n",
        "from nltk.tokenize import sent_tokenize\n",
        "from bs4 import BeautifulSoup as bs\n",
        "import tqdm\n",
        "import torch\n",
        "import glob\n",
        "import sys\n",
        "\n",
        "from sentence_transformers import SentenceTransformer"
      ],
      "execution_count": 0,
      "outputs": []
    },
    {
      "cell_type": "code",
      "metadata": {
        "id": "ZL787vXjXjjb",
        "colab_type": "code",
        "colab": {}
      },
      "source": [
        "from pso.pso import ParticleSwarmOptimizedClustering\n",
        "from particle import quantization_error, calc_sse\n",
        "from utils import normalize\n",
        "# from kmeans import KMeans\n",
        "from sklearn.cluster import KMeans"
      ],
      "execution_count": 0,
      "outputs": []
    },
    {
      "cell_type": "code",
      "metadata": {
        "id": "XKoXBPd6h-UI",
        "colab_type": "code",
        "colab": {}
      },
      "source": [
        "from pythonrouge.pythonrouge import Pythonrouge\n",
        "from rouge import Rouge"
      ],
      "execution_count": 0,
      "outputs": []
    },
    {
      "cell_type": "code",
      "metadata": {
        "id": "waD3VUjWzztp",
        "colab_type": "code",
        "colab": {}
      },
      "source": [
        "#  os.environ['CUDA_VISIBLE_DEVICES']='0'\n",
        "#  os.environ['CUDA_VISIBLE_DEVICE']='0'"
      ],
      "execution_count": 0,
      "outputs": []
    },
    {
      "cell_type": "markdown",
      "metadata": {
        "id": "S2HDLnlOQz0s",
        "colab_type": "text"
      },
      "source": [
        "# **Downloading models**"
      ]
    },
    {
      "cell_type": "code",
      "metadata": {
        "id": "O9t_A56Iilk_",
        "colab_type": "code",
        "colab": {}
      },
      "source": [
        "# nltk.download('stopwords')\n",
        "# nltk.download('punkt')"
      ],
      "execution_count": 0,
      "outputs": []
    },
    {
      "cell_type": "markdown",
      "metadata": {
        "id": "IvQb7X2lyLYU",
        "colab_type": "text"
      },
      "source": [
        "# **Generate Embeddings**"
      ]
    },
    {
      "cell_type": "code",
      "metadata": {
        "id": "z9hCGB_nyO_j",
        "colab_type": "code",
        "outputId": "b72cc049-7e01-4783-f012-89942e144495",
        "colab": {
          "base_uri": "https://localhost:8080/",
          "height": 34
        }
      },
      "source": [
        "model = SentenceTransformer('bert-base-nli-mean-tokens')\n",
        "\n",
        "files = list(glob.glob(\"/content/scisumm-corpus/data/*/*/Reference_XML/*xml\"))\n",
        "# ===================\n",
        "# files = files[:5] #\n",
        "# ===================\n",
        "out_dir = \"/content/embeddnings\"\n",
        "if not os.path.exists(out_dir): os.mkdir(out_dir)\n",
        "\n",
        "embd_xml = {}\n",
        "\n",
        "for file in tqdm.tqdm(files):\n",
        "    with open(file, encoding='latin') as f:\n",
        "        soup = bs(f.read())\n",
        "        sentences = list(map(lambda x: x.text, soup.find_all(\"s\")))\n",
        "        embd = np.array(model.encode(sentences))\n",
        "\n",
        "        embd_file = os.path.join(out_dir, os.path.basename(file).replace(\".xml\", \".npy\"))\n",
        "        embd_xml[embd_file] = file\n",
        "        \n",
        "    with open(embd_file, \"wb\") as nf:\n",
        "        np.save(nf, embd)\n"
      ],
      "execution_count": 17,
      "outputs": [
        {
          "output_type": "stream",
          "text": [
            "100%|██████████| 130/130 [03:35<00:00,  1.66s/it]\n"
          ],
          "name": "stderr"
        }
      ]
    },
    {
      "cell_type": "code",
      "metadata": {
        "id": "ys3toMRryfR6",
        "colab_type": "code",
        "colab": {}
      },
      "source": [
        "embds = '/content/embeddnings/E09-2008.npy'\n",
        "xml_file = embd_xml[embds]\n",
        "\n",
        "with open(xml_file) as f:\n",
        "    xml = f.read()\n",
        "    sentences = list(map(lambda x: x.text, bs(xml).find_all(\"s\")))\n",
        "\n",
        "data = np.load(embds)\n",
        "n_clusters = data.shape[0] // 20"
      ],
      "execution_count": 0,
      "outputs": []
    },
    {
      "cell_type": "code",
      "metadata": {
        "id": "9PYlNLmhLyj3",
        "colab_type": "code",
        "outputId": "3442e7a6-a268-436d-f84a-c8c5add609f7",
        "colab": {
          "base_uri": "https://localhost:8080/",
          "height": 34
        }
      },
      "source": [
        "data.shape"
      ],
      "execution_count": 9,
      "outputs": [
        {
          "output_type": "execute_result",
          "data": {
            "text/plain": [
              "(63, 768)"
            ]
          },
          "metadata": {
            "tags": []
          },
          "execution_count": 9
        }
      ]
    },
    {
      "cell_type": "code",
      "metadata": {
        "id": "OOdUWwT7nA3T",
        "colab_type": "code",
        "colab": {}
      },
      "source": [
        "summ_files = list(glob.glob(os.path.join(os.path.dirname(os.path.dirname(xml_file)), \"summary\") + \"/*\"))"
      ],
      "execution_count": 0,
      "outputs": []
    },
    {
      "cell_type": "code",
      "metadata": {
        "id": "REeNeGSmV-4M",
        "colab_type": "code",
        "outputId": "072f3fa8-0ff4-4d37-f702-c6dee4b010da",
        "colab": {
          "base_uri": "https://localhost:8080/",
          "height": 68
        }
      },
      "source": [
        "km = KMeans(n_clusters=n_clusters)\n",
        "km.fit(data)"
      ],
      "execution_count": 0,
      "outputs": [
        {
          "output_type": "execute_result",
          "data": {
            "text/plain": [
              "KMeans(algorithm='auto', copy_x=True, init='k-means++', max_iter=300,\n",
              "       n_clusters=3, n_init=10, n_jobs=None, precompute_distances='auto',\n",
              "       random_state=None, tol=0.0001, verbose=0)"
            ]
          },
          "metadata": {
            "tags": []
          },
          "execution_count": 54
        }
      ]
    },
    {
      "cell_type": "code",
      "metadata": {
        "id": "ML60B-6VxsQM",
        "colab_type": "code",
        "outputId": "45b7f5dc-df7a-4ab1-fc3b-99ddd9180d32",
        "colab": {
          "base_uri": "https://localhost:8080/",
          "height": 85
        }
      },
      "source": [
        "pred = km.predict(data)\n",
        "pred"
      ],
      "execution_count": 0,
      "outputs": [
        {
          "output_type": "execute_result",
          "data": {
            "text/plain": [
              "array([1, 1, 1, 2, 1, 1, 1, 2, 1, 2, 1, 1, 1, 1, 1, 1, 2, 2, 2, 0, 0, 0,\n",
              "       0, 0, 0, 1, 1, 0, 1, 1, 1, 1, 0, 1, 1, 0, 0, 0, 0, 0, 0, 0, 1, 1,\n",
              "       1, 2, 1, 2, 2, 1, 1, 2, 2, 1, 1, 2, 2, 0, 0, 0, 1, 0, 0],\n",
              "      dtype=int32)"
            ]
          },
          "metadata": {
            "tags": []
          },
          "execution_count": 55
        }
      ]
    },
    {
      "cell_type": "code",
      "metadata": {
        "id": "iwe504D6dHvN",
        "colab_type": "code",
        "outputId": "b5046328-e627-4623-bed3-e6ea845e69ff",
        "colab": {
          "base_uri": "https://localhost:8080/",
          "height": 731
        }
      },
      "source": [
        "pso = ParticleSwarmOptimizedClustering(n_cluster=n_clusters, n_particles=10, data=data,\n",
        "             hybrid=True, max_iter=2000, print_debug=50)\n",
        "hist = pso.run()"
      ],
      "execution_count": 0,
      "outputs": [
        {
          "output_type": "stream",
          "text": [
            "Initial global best score 44.85419527689616\n",
            "Iteration 0001/2000 current gbest score 44.854195276896156486\n",
            "Iteration 0051/2000 current gbest score 43.848040898640952889\n",
            "Iteration 0101/2000 current gbest score 43.834046045939125236\n",
            "Iteration 0151/2000 current gbest score 43.834046045939125236\n",
            "Iteration 0201/2000 current gbest score 43.834040959676109139\n",
            "Iteration 0251/2000 current gbest score 43.834035873413085938\n",
            "Iteration 0301/2000 current gbest score 43.832684199015297111\n",
            "Iteration 0351/2000 current gbest score 43.831001281738281250\n",
            "Iteration 0401/2000 current gbest score 43.831000010172523673\n",
            "Iteration 0451/2000 current gbest score 43.831000010172523673\n",
            "Iteration 0501/2000 current gbest score 43.831000010172523673\n",
            "Iteration 0551/2000 current gbest score 43.831000010172523673\n",
            "Iteration 0601/2000 current gbest score 43.831000010172523673\n",
            "Iteration 0651/2000 current gbest score 43.830999374389648438\n",
            "Iteration 0701/2000 current gbest score 43.830999374389648438\n",
            "Iteration 0751/2000 current gbest score 43.830999374389648438\n",
            "Iteration 0801/2000 current gbest score 43.830999374389648438\n",
            "Iteration 0851/2000 current gbest score 43.830998738606773202\n",
            "Iteration 0901/2000 current gbest score 43.830998738606773202\n",
            "Iteration 0951/2000 current gbest score 43.830998738606773202\n",
            "Iteration 1001/2000 current gbest score 43.830998738606773202\n",
            "Iteration 1051/2000 current gbest score 43.830998738606773202\n",
            "Iteration 1101/2000 current gbest score 43.830998738606773202\n",
            "Iteration 1151/2000 current gbest score 43.830998738606773202\n",
            "Iteration 1201/2000 current gbest score 43.830998738606773202\n",
            "Iteration 1251/2000 current gbest score 43.830998738606773202\n",
            "Iteration 1301/2000 current gbest score 43.830998738606773202\n",
            "Iteration 1351/2000 current gbest score 43.830998738606773202\n",
            "Iteration 1401/2000 current gbest score 43.830998738606773202\n",
            "Iteration 1451/2000 current gbest score 43.830998738606773202\n",
            "Iteration 1501/2000 current gbest score 43.830998738606773202\n",
            "Iteration 1551/2000 current gbest score 43.830998738606773202\n",
            "Iteration 1601/2000 current gbest score 43.830998738606773202\n",
            "Iteration 1651/2000 current gbest score 43.830998738606773202\n",
            "Iteration 1701/2000 current gbest score 43.830998738606773202\n",
            "Iteration 1751/2000 current gbest score 43.830998738606773202\n",
            "Iteration 1801/2000 current gbest score 43.830998738606773202\n",
            "Iteration 1851/2000 current gbest score 43.830998738606773202\n",
            "Iteration 1901/2000 current gbest score 43.830998738606773202\n",
            "Iteration 1951/2000 current gbest score 43.830998738606773202\n",
            "Finish with gbest score 43.830998738606773202\n"
          ],
          "name": "stdout"
        }
      ]
    },
    {
      "cell_type": "markdown",
      "metadata": {
        "id": "9cEjBne03FEY",
        "colab_type": "text"
      },
      "source": [
        "# **Helper functions**"
      ]
    },
    {
      "cell_type": "code",
      "metadata": {
        "id": "qAWyeVOty5sR",
        "colab_type": "code",
        "colab": {}
      },
      "source": [
        "def fill_upper(df):\n",
        "    l = len(df)\n",
        "    for i in range(l):\n",
        "        for j in range(i, l):\n",
        "            df.loc[i][j] = df.loc[j][i]\n",
        "    return df\n",
        "\n",
        "def n_sum(n):\n",
        "    if (n < 1):\n",
        "        return 0\n",
        "    return (n * (n + 1)) // 2\n",
        "    \n",
        "def normalize(v):\n",
        "    norm = np.linalg.norm(v)\n",
        "    if norm == 0: \n",
        "       return v\n",
        "    return v / norm"
      ],
      "execution_count": 0,
      "outputs": []
    },
    {
      "cell_type": "code",
      "metadata": {
        "id": "_jI9z1Hkh7iK",
        "colab_type": "code",
        "colab": {}
      },
      "source": [
        "def get_document_center(df_wmd):\n",
        "    return df_wmd.sum(axis=1).idxmin()\n",
        "\n",
        "def get_cluster_center(df_wmd, cluster_idx):\n",
        "    cluster_idx.sort()\n",
        "    df_wmd_cluster = df_wmd.iloc[cluster_idx, cluster_idx]\n",
        "    return df_wmd_cluster.sum(axis=1).idxmin()"
      ],
      "execution_count": 0,
      "outputs": []
    },
    {
      "cell_type": "markdown",
      "metadata": {
        "id": "6re8WdMY5_vr",
        "colab_type": "text"
      },
      "source": [
        "# **WMD Matrix**"
      ]
    },
    {
      "cell_type": "code",
      "metadata": {
        "id": "SN0emB3v8gwe",
        "colab_type": "code",
        "colab": {}
      },
      "source": [
        "import gensim "
      ],
      "execution_count": 0,
      "outputs": []
    },
    {
      "cell_type": "code",
      "metadata": {
        "id": "OzpFlpOK3Mdf",
        "colab_type": "code",
        "outputId": "590c8793-bddc-4865-a65f-12328b372165",
        "colab": {
          "base_uri": "https://localhost:8080/",
          "height": 71
        }
      },
      "source": [
        "model = gensim.models.KeyedVectors.load_word2vec_format('GoogleNews-vectors-negative300.bin.gz', binary=True) "
      ],
      "execution_count": 0,
      "outputs": [
        {
          "output_type": "stream",
          "text": [
            "/usr/local/lib/python3.6/dist-packages/smart_open/smart_open_lib.py:253: UserWarning: This function is deprecated, use smart_open.open instead. See the migration notes for details: https://github.com/RaRe-Technologies/smart_open/blob/master/README.rst#migrating-to-the-new-open-function\n",
            "  'See the migration notes for details: %s' % _MIGRATION_NOTES_URL\n"
          ],
          "name": "stderr"
        }
      ]
    },
    {
      "cell_type": "code",
      "metadata": {
        "id": "VgdLq6qR5H_O",
        "colab_type": "code",
        "colab": {}
      },
      "source": [
        "def generate_wmd_matrix_2(sentences):\n",
        "    print(\"Generating WMD matrix...\\n\\n\")\n",
        "    l = len(sentences)\n",
        "    data = [{}]\n",
        "    row = 0\n",
        "    for i in tqdm.tqdm_notebook(range(n_sum(l))):\n",
        "        col = (i - n_sum(row)) % (row + 1)\n",
        "        if (row == col):\n",
        "            data[row][col] = 0\n",
        "            data.append({})\n",
        "            row += 1\n",
        "            continue\n",
        "        data[row][col] = data[col][row] = model.wmdistance(sentences[row], sentences[col])\n",
        "    return pd.DataFrame.from_dict(data[:-1])"
      ],
      "execution_count": 0,
      "outputs": []
    },
    {
      "cell_type": "code",
      "metadata": {
        "id": "DdSs4tFQ4Ox5",
        "colab_type": "code",
        "colab": {}
      },
      "source": [
        "def generate_wmd_matrix(sentences):\n",
        "    print(\"Generating WMD matrix...\\n\\n\")\n",
        "    l = len(sentences)\n",
        "    df = pd.DataFrame(index=list(range(l)), columns=list(range(l)))\n",
        "    row = 0\n",
        "    for i in tqdm.tqdm_notebook(range(n_sum(l))):\n",
        "        col = (i - n_sum(row)) % (row + 1)\n",
        "        if (row == col):\n",
        "            df.loc[row][col] = 0\n",
        "            row += 1\n",
        "            continue\n",
        "        df.loc[row][col] = df.loc[col][row] = model.wmdistance(sentences[row], sentences[col])\n",
        "    return df"
      ],
      "execution_count": 0,
      "outputs": []
    },
    {
      "cell_type": "code",
      "metadata": {
        "id": "qCcoeikM4l4t",
        "colab_type": "code",
        "outputId": "b31c1edf-d9af-4644-856f-6561516483f9",
        "colab": {
          "base_uri": "https://localhost:8080/",
          "height": 168,
          "referenced_widgets": [
            "c4bc4196293f4c83816b82003188ec73",
            "cbc7eb8fcfdc46abb7cc12b826d46e7a",
            "f19ebed3655746e6801b483b10d10dca",
            "ba85ed53bed44b9487963058b95c9f07",
            "682d473d9ba54533a7409959bb341c29",
            "7ecd1bb58c5943a0b6283da37154ea43",
            "03b0fb62411c407c935ac75bc93db84d",
            "cda5cfff5f0d4e60bcb34b2219c5c27c"
          ]
        }
      },
      "source": [
        "df_wmd = generate_wmd_matrix_2(sentences)\n",
        "# df_wmd"
      ],
      "execution_count": 0,
      "outputs": [
        {
          "output_type": "stream",
          "text": [
            "Generating WMD matrix...\n",
            "\n",
            "\n"
          ],
          "name": "stdout"
        },
        {
          "output_type": "stream",
          "text": [
            "/usr/local/lib/python3.6/dist-packages/ipykernel_launcher.py:6: TqdmDeprecationWarning: This function will be removed in tqdm==5.0.0\n",
            "Please use `tqdm.notebook.tqdm` instead of `tqdm.tqdm_notebook`\n",
            "  \n"
          ],
          "name": "stderr"
        },
        {
          "output_type": "display_data",
          "data": {
            "application/vnd.jupyter.widget-view+json": {
              "model_id": "c4bc4196293f4c83816b82003188ec73",
              "version_minor": 0,
              "version_major": 2
            },
            "text/plain": [
              "HBox(children=(FloatProgress(value=0.0, max=2016.0), HTML(value='')))"
            ]
          },
          "metadata": {
            "tags": []
          }
        },
        {
          "output_type": "stream",
          "text": [
            "\n"
          ],
          "name": "stdout"
        }
      ]
    },
    {
      "cell_type": "code",
      "metadata": {
        "id": "M6XJh5bxR8DC",
        "colab_type": "code",
        "colab": {}
      },
      "source": [
        "del model"
      ],
      "execution_count": 0,
      "outputs": []
    },
    {
      "cell_type": "code",
      "metadata": {
        "id": "jrrie1Zhu3tV",
        "colab_type": "code",
        "outputId": "99f83f67-c466-4e19-c5ce-b67ac7b6b5a7",
        "colab": {
          "base_uri": "https://localhost:8080/",
          "height": 34
        }
      },
      "source": [
        "doc_center = get_document_center(df_wmd)\n",
        "doc_center"
      ],
      "execution_count": 0,
      "outputs": [
        {
          "output_type": "execute_result",
          "data": {
            "text/plain": [
              "53"
            ]
          },
          "metadata": {
            "tags": []
          },
          "execution_count": 65
        }
      ]
    },
    {
      "cell_type": "code",
      "metadata": {
        "id": "bHYWFoyR6iC8",
        "colab_type": "code",
        "colab": {}
      },
      "source": [
        "def sort_clusters_ids(cluster_ids, df_wmd):\n",
        "    cluster_df = df_wmd.iloc[cluster_ids, cluster_ids]\n",
        "    sorted_val = cluster_df.sum().sort_values()\n",
        "    return sorted_val"
      ],
      "execution_count": 0,
      "outputs": []
    },
    {
      "cell_type": "code",
      "metadata": {
        "id": "KCJElugQxf4j",
        "colab_type": "code",
        "colab": {}
      },
      "source": [
        "def get_cluster_ranking(n_clusters=n_clusters, pred=pred, df_wmd=df_wmd):\n",
        "    clusters_ids = []\n",
        "    for i in range(n_clusters):\n",
        "        sorted_ids = sort_clusters_ids([k for k in range(len(pred)) if pred[k]==i], df_wmd)\n",
        "        clusters_ids.append((list(sorted_ids.index), sorted_ids.values[0]))\n",
        "    clusters_ids = dict(enumerate((map(lambda x: x[0], sorted(clusters_ids, key=lambda x: x[1])))))\n",
        "    return clusters_ids"
      ],
      "execution_count": 0,
      "outputs": []
    },
    {
      "cell_type": "code",
      "metadata": {
        "id": "3kZ-LXqdXiMJ",
        "colab_type": "code",
        "colab": {}
      },
      "source": [
        "clusters_ids = get_cluster_ranking()"
      ],
      "execution_count": 0,
      "outputs": []
    },
    {
      "cell_type": "code",
      "metadata": {
        "id": "Z3HfC8UUVL-t",
        "colab_type": "code",
        "outputId": "17cebfb8-cb9f-4762-f930-172fbf4478b2",
        "colab": {
          "base_uri": "https://localhost:8080/",
          "height": 54
        }
      },
      "source": [
        "print(clusters_ids)"
      ],
      "execution_count": 0,
      "outputs": [
        {
          "output_type": "stream",
          "text": [
            "{0: [48, 9, 51, 18, 47, 17, 52, 45, 7, 3, 56, 16, 55], 1: [53, 42, 8, 12, 15, 30, 28, 5, 44, 29, 4, 33, 34, 26, 1, 14, 13, 46, 25, 50, 0, 54, 6, 43, 49, 11, 31, 2, 60, 10], 2: [23, 27, 20, 58, 61, 62, 19, 59, 37, 41, 40, 22, 24, 36, 32, 57, 39, 38, 35, 21]}\n"
          ],
          "name": "stdout"
        }
      ]
    },
    {
      "cell_type": "markdown",
      "metadata": {
        "id": "S7xrkQ7gM_eD",
        "colab_type": "text"
      },
      "source": [
        "# **AllenNLP**"
      ]
    },
    {
      "cell_type": "code",
      "metadata": {
        "id": "jAk_yMr3Nf5S",
        "colab_type": "code",
        "outputId": "92a2346b-cffa-4ae8-926f-a0a0dc245e60",
        "colab": {
          "base_uri": "https://localhost:8080/",
          "height": 213,
          "referenced_widgets": [
            "79177970f0644c47bc9ecb59dac95e8f",
            "d6a7d4056f834e3c93d27b5186abcbed",
            "ff4367260247457492714f1c7051efe2",
            "8f135facf1d24316a53902acd4b606ba",
            "ba2a870392034bc78a2aee664f06d944",
            "b59dd8890a5a44f38beb8372c5268c21",
            "6efd95cd4ac5471280e97f773be2f67b",
            "04894f990d86430395cdb090798e322c",
            "ac3c2d35f0b84769aeca9c7f35c1b0f8",
            "255d7701d6554a0e83204955793822f6",
            "c95b478c400441a3a09e7a4d6a934f0a",
            "a04b4a1037034adbb905baa7214f0d05",
            "efbbc01e05984fe0b5744f5add55aea4",
            "0b2ca6a09d7d415fb8cd05bb0e36fe1d",
            "da6fc6a9ae9f4329892fbcfca12acff2",
            "164629bdbb784c7bbadc7d866117e6ec",
            "b96d2e3a411f4f16b66654e746fbfcfa",
            "ef1b49fbaead4e8da507d6e4d667a925",
            "2993c2709313458fb49c9139a7c41860",
            "78b9d8939812439ba4b0807ad1b8e559",
            "37d01934acd8499093005ff289e17686",
            "dc1c1d89b2824a06b57f1a37db8de2e4",
            "3ab78b7ea3ae4715849498b9fe05014b",
            "4a11673bef22445abf6dc6437614db67",
            "042ffa3ab838457d987449b5e8bfee8c",
            "5938e254140242bea2336126a08a089f",
            "3a1c0589cfd84768a1b7fb1a72d995cb",
            "bea6218e728148df8644fdc411fa1a56",
            "b3843702361643e79d36057f505351c3",
            "b886970bf5fc4ba0ad1805c4ceac6c55",
            "2300178be4f64ba48b56d036231f88a0",
            "f80e711fc98f44698a8cc57aaadc3a35"
          ]
        }
      },
      "source": [
        "predictor = Predictor.from_path(\"snli-roberta-large-2020.02.27.tar.gz\", predictor_name=\"textual-entailment\", cuda_device=0)\n",
        "# predictor.predict(hypothesis=\"Two women are sitting on a blanket near some rocks talking about politics.\",\n",
        "#                   premise=\"Two women are wandering along the shore drinking iced tea.\")"
      ],
      "execution_count": 0,
      "outputs": [
        {
          "output_type": "display_data",
          "data": {
            "application/vnd.jupyter.widget-view+json": {
              "model_id": "79177970f0644c47bc9ecb59dac95e8f",
              "version_minor": 0,
              "version_major": 2
            },
            "text/plain": [
              "HBox(children=(FloatProgress(value=0.0, description='Downloading', max=482.0, style=ProgressStyle(description_…"
            ]
          },
          "metadata": {
            "tags": []
          }
        },
        {
          "output_type": "stream",
          "text": [
            "\n"
          ],
          "name": "stdout"
        },
        {
          "output_type": "display_data",
          "data": {
            "application/vnd.jupyter.widget-view+json": {
              "model_id": "ac3c2d35f0b84769aeca9c7f35c1b0f8",
              "version_minor": 0,
              "version_major": 2
            },
            "text/plain": [
              "HBox(children=(FloatProgress(value=0.0, description='Downloading', max=1425941629.0, style=ProgressStyle(descr…"
            ]
          },
          "metadata": {
            "tags": []
          }
        },
        {
          "output_type": "stream",
          "text": [
            "\n"
          ],
          "name": "stdout"
        },
        {
          "output_type": "display_data",
          "data": {
            "application/vnd.jupyter.widget-view+json": {
              "model_id": "b96d2e3a411f4f16b66654e746fbfcfa",
              "version_minor": 0,
              "version_major": 2
            },
            "text/plain": [
              "HBox(children=(FloatProgress(value=0.0, description='Downloading', max=898823.0, style=ProgressStyle(descripti…"
            ]
          },
          "metadata": {
            "tags": []
          }
        },
        {
          "output_type": "stream",
          "text": [
            "\n"
          ],
          "name": "stdout"
        },
        {
          "output_type": "display_data",
          "data": {
            "application/vnd.jupyter.widget-view+json": {
              "model_id": "042ffa3ab838457d987449b5e8bfee8c",
              "version_minor": 0,
              "version_major": 2
            },
            "text/plain": [
              "HBox(children=(FloatProgress(value=0.0, description='Downloading', max=456318.0, style=ProgressStyle(descripti…"
            ]
          },
          "metadata": {
            "tags": []
          }
        },
        {
          "output_type": "stream",
          "text": [
            "\n"
          ],
          "name": "stdout"
        }
      ]
    },
    {
      "cell_type": "code",
      "metadata": {
        "id": "ai6MMkV-NEpK",
        "colab_type": "code",
        "colab": {}
      },
      "source": [
        "def pos_entail(sen1, sen2):\n",
        "    out = predictor.predict(sen1, sen2)\n",
        "    return out['probs'][0]\n",
        "\n",
        "def contradiction(sen1, sen2):\n",
        "    out = predictor.predict(sen1, sen2)\n",
        "    return out['probs'][1]\n",
        "\n",
        "def generate_contradiction_matrix(sentences):\n",
        "    print(\"Generating contradiction matrix...\\n\\n\")\n",
        "\n",
        "    l = len(sentences)\n",
        "    data = [{}]\n",
        "    row = 0\n",
        "    for i in tqdm.tqdm_notebook(range(n_sum(l))):\n",
        "        col = (i - n_sum(row)) % (row + 1)\n",
        "        if (row == col):\n",
        "            data[row][col] = 0\n",
        "            data.append({})\n",
        "            row += 1\n",
        "            continue\n",
        "        data[row][col] = data[col][row] = contradiction(sentences[row], sentences[col])\n",
        "    return pd.DataFrame.from_dict(data[:-1])"
      ],
      "execution_count": 0,
      "outputs": []
    },
    {
      "cell_type": "code",
      "metadata": {
        "id": "pt8mRPy4NWmT",
        "colab_type": "code",
        "outputId": "0d678eb9-0d68-4646-97bd-78a4ca411757",
        "colab": {
          "base_uri": "https://localhost:8080/",
          "height": 168,
          "referenced_widgets": [
            "516effda04744d348ef4a5340cdfca5b",
            "c3ab02c75d464d96a4d0fa7b774cd43c",
            "b43f3da330d7436180cc2e79dcff60b9",
            "2a48711d951940c7b16e16f20e0a5976",
            "27e6421e02f34ad79bd464a5ee3cce6d",
            "3def99827fde4cf091206edaf9429101",
            "1549e765333247b48797977059237132",
            "b1efd91f13874c45ae2073e2cc70ac0e"
          ]
        }
      },
      "source": [
        "df_cont = generate_contradiction_matrix(sentences)"
      ],
      "execution_count": 0,
      "outputs": [
        {
          "output_type": "stream",
          "text": [
            "Generating contradiction matrix...\n",
            "\n",
            "\n"
          ],
          "name": "stdout"
        },
        {
          "output_type": "stream",
          "text": [
            "/usr/local/lib/python3.6/dist-packages/ipykernel_launcher.py:15: TqdmDeprecationWarning: This function will be removed in tqdm==5.0.0\n",
            "Please use `tqdm.notebook.tqdm` instead of `tqdm.tqdm_notebook`\n",
            "  from ipykernel import kernelapp as app\n"
          ],
          "name": "stderr"
        },
        {
          "output_type": "display_data",
          "data": {
            "application/vnd.jupyter.widget-view+json": {
              "model_id": "516effda04744d348ef4a5340cdfca5b",
              "version_minor": 0,
              "version_major": 2
            },
            "text/plain": [
              "HBox(children=(FloatProgress(value=0.0, max=2016.0), HTML(value='')))"
            ]
          },
          "metadata": {
            "tags": []
          }
        },
        {
          "output_type": "stream",
          "text": [
            "\n"
          ],
          "name": "stdout"
        }
      ]
    },
    {
      "cell_type": "markdown",
      "metadata": {
        "id": "vW8lpxsC8sxF",
        "colab_type": "text"
      },
      "source": [
        "# **Summary Generation**"
      ]
    },
    {
      "cell_type": "markdown",
      "metadata": {
        "id": "u1QyvXYJp_9a",
        "colab_type": "text"
      },
      "source": [
        "* **Given Summaries**"
      ]
    },
    {
      "cell_type": "code",
      "metadata": {
        "id": "_R-vQG_rqDqE",
        "colab_type": "code",
        "outputId": "caab1562-4227-436c-d779-a39b3c6f3f30",
        "colab": {
          "base_uri": "https://localhost:8080/",
          "height": 343
        }
      },
      "source": [
        "i = 0\n",
        "for f in summ_files:\n",
        "    with open(f) as sf:\n",
        "        print(f, i)\n",
        "        exec(f\"summ_{i} = bs(sf.read()).text\")\n",
        "        exec(f\"print(summ_{i})\")\n",
        "        i += 1\n",
        "        print(\"=\"*100)"
      ],
      "execution_count": 0,
      "outputs": [
        {
          "output_type": "stream",
          "text": [
            "/content/scisumm-corpus/data/Training-Set-2017/E09-2008/summary/E09_2008.abstract.txt 0\n",
            "Foma: a finite-state compiler and library\n",
            "Foma is a compiler, programming language, and C library for constructing finite-state automata and transducers for various uses.\n",
            "It has specific support for many natural language processing applications such as producing morphological and phonological analyzers.\n",
            "Foma is largely compatible with the Xerox/PARC finite-state toolkit.\n",
            "It also embraces Unicode fully and supports various different formats for specifying regular expressions: the Xerox/PARC format, a Perl-like format, and a mathematical format that takes advantage of the ‘Mathematical Operators’ Unicode block.\n",
            "====================================================================================================\n",
            "/content/scisumm-corpus/data/Training-Set-2017/E09-2008/summary/E09-2008.community.txt 1\n",
            "Foma is largely compatible with the Xerox/PARC finite-state toolkit.\n",
            "Foma is a finite-state compiler, programming language, and regular expression/finite-state library designed for multipurpose use with explicit support for automata theoretic research, constructing lexical analyzers for programming languages, and building morphological/phonological analyzers, as well as spellchecking applications.\n",
            "The compiler allows users to specify finite-state automata and transducers incrementally in a similar fashion to AT&Tâ€™s fsm (Mohri et al., 1997) and Lextools (Sproat, 2003), the Xerox/PARC finite- state toolkit (Beesley and Karttunen, 2003) and the SFST toolkit (Schmid, 2005).\n",
            "Foma is licensed under the GNU general public license: in keeping with traditions of free software, the distribution that includes the source code comes with a user manual and a library of examples.\n",
            "This makes it straightforward to build spell-checkers from morphological transducers by simply extracting the range of the transduction and matching words approximately.\n",
            "Though the main concern with Foma has not been that of efficiency, but of compatibility and extendibility, from a usefulness perspective it is important to avoid bottlenecks in the underlying algorithms that can cause compilation times to skyrocket, especially when constructing and combining large lexical transducers.\n",
            "====================================================================================================\n",
            "/content/scisumm-corpus/data/Training-Set-2017/E09-2008/summary/E09-2008.human.txt 2\n",
            "This paper discusses Foma, a finite state compiler, programming language, and regular expression or finite-state library designed for multi-purpose use with explicit support for automata theoretic research, constructing lexical analyzers for programming languages, and building morphological or phonological analyzers and spellchecking applications.  The aim of Foma is to provide specific support for many natural language processing applications such as producing morphological and phonological analyzers. Foma is licensed under the GNU general public license: in keeping with traditions of free software, the distribution that includes the source code comes with a user manual and a library of examples. Though the main concern with Foma has not been that of efficiency, but of compatibility and extendibility, from a usefulness perspective it is important to avoid bottlenecks in the underlying algorithms that can cause compilation times to skyrocket, especially when constructing and combining large lexical transducers. Several widecoverage morphological analyzers specified in the LEXC/xfst format have been compiled successfully with Foma.\n",
            "====================================================================================================\n"
          ],
          "name": "stdout"
        }
      ]
    },
    {
      "cell_type": "code",
      "metadata": {
        "id": "jl0eRUHWPLzX",
        "colab_type": "code",
        "colab": {}
      },
      "source": [
        "ratio_sen_summ = .1\n",
        "sen_length = len(sentences)\n",
        "\n",
        "def check_limit_condition(summ_sentences_idx, sen_length=sen_length, ratio_sen_summ=ratio_sen_summ):\n",
        "    return len(summ_sentences_idx) < len(sentences) * ratio_sen_summ"
      ],
      "execution_count": 0,
      "outputs": []
    },
    {
      "cell_type": "markdown",
      "metadata": {
        "id": "HdTt5xkoOyry",
        "colab_type": "text"
      },
      "source": [
        "* **Summary 1**\n",
        "\n",
        "Cluster centeres and sentences close to cluster center has been selected to generate summary"
      ]
    },
    {
      "cell_type": "code",
      "metadata": {
        "id": "r7C-4aXZeF4_",
        "colab_type": "code",
        "outputId": "8e07b52d-0439-4acf-8d19-10b67c7c8826",
        "colab": {
          "base_uri": "https://localhost:8080/",
          "height": 54
        }
      },
      "source": [
        "print(clusters_ids)"
      ],
      "execution_count": 0,
      "outputs": [
        {
          "output_type": "stream",
          "text": [
            "{0: [48, 9, 51, 18, 47, 17, 52, 45, 7, 3, 56, 16, 55], 1: [53, 42, 8, 12, 15, 30, 28, 5, 44, 29, 4, 33, 34, 26, 1, 14, 13, 46, 25, 50, 0, 54, 6, 43, 49, 11, 31, 2, 60, 10], 2: [23, 27, 20, 58, 61, 62, 19, 59, 37, 41, 40, 22, 24, 36, 32, 57, 39, 38, 35, 21]}\n"
          ],
          "name": "stdout"
        }
      ]
    },
    {
      "cell_type": "code",
      "metadata": {
        "id": "6ib57O8ayurN",
        "colab_type": "code",
        "outputId": "f4895648-3c39-4756-aa7b-ef1836fd2662",
        "colab": {
          "base_uri": "https://localhost:8080/",
          "height": 156
        }
      },
      "source": [
        "summ_sentences_idx = set()\n",
        "\n",
        "i = 0\n",
        "while (check_limit_condition(summ_sentences_idx)):\n",
        "    summ_sentences_idx.add(clusters_ids[i % n_clusters][i // n_clusters])\n",
        "    i += 1\n",
        "\n",
        "summ_sentences_idx = sorted(summ_sentences_idx)\n",
        "\n",
        "generated_summary_1 = \"\\n\".join(map(lambda i: sentences[i], summ_sentences_idx))\n",
        "print(generated_summary_1)"
      ],
      "execution_count": 0,
      "outputs": [
        {
          "output_type": "stream",
          "text": [
            "Foma is licensed under the GNU general public license: in keeping with traditions of free software, the distribution that includes the source code comes with a user manual and a library of examples.\n",
            "N/A N/A ‘ignores’, left quotient, right quotient, ‘inside’ quotient ∈ ∈/ = /= N/A language membership, position equivalence ≺ < > precedes, follows ∨ ∪ ∧ ∩ - .P. .p. | & − .P. .p. union, intersection, set minus, priority unions => -> (->) @-> => -> (->) @-> context restriction, replacement rules <> shuffle (asynchronous product) × ◦ .x. .o. cross-product, composition Table 1: The regular expressions available in Foma from highest to lower precedence.\n",
            "For instance, suppose we have defined an arbitrary regular language L, and want to further define a language that contains only one factor of L, we can do so by: OneL = (∃x)(x ∈ L ∧ (∃y)(y ∈ L ∧ (x = y))); Here, quantifiers apply to substrings, and we attribute the usual meaning to ∈ and ∧, and a kind of concatenative meaning to the predicate S(t1, t2).\n",
            "10 } Here, instead of calling the fsm regex() function to construct the machine from a regular expressions, we could instead have accessed the beforementioned low-level routines and built the network entirely without regular expressions by combining low-level primitives, as follows, replacing line 5 in the above: network = fsm_concat( fsm_kleene_plus( fsm_symbol(\"a\")), fsm_kleene_plus( fsm_symbol(\"b\"))); The API is currently under active development and future functionality is likely to include conversion of networks to 8-bit letter transducers/automata for maximum speed in regular expression matching and transduction.\n",
            "Though the main concern with Foma has not been that of efficiency, but of compatibility and extendibility, from a usefulness perspective it is important to avoid bottlenecks in the underlying algorithms that can cause compilation times to skyrocket, especially when constructing and combining large lexical transducers.\n",
            "One the whole, Foma seems to perform particularly well with pathological cases that involve exponential growth in the number of states when determinizing non- deterministic machines.\n",
            "The Foma project is multipurpose multi-mode finite-state compiler geared toward practical construction of large-scale finite-state machines such as may be needed in natural language processing as well as providing a framework for research in finite-state automata.\n"
          ],
          "name": "stdout"
        }
      ]
    },
    {
      "cell_type": "markdown",
      "metadata": {
        "id": "pGvVWBMaO9Fl",
        "colab_type": "text"
      },
      "source": [
        "* **Summary 2**  \n",
        "Cluster centres and sentences contradicting sentences has been selected."
      ]
    },
    {
      "cell_type": "code",
      "metadata": {
        "id": "bZztrLAsaBEk",
        "colab_type": "code",
        "colab": {}
      },
      "source": [
        "def get_contr_sorted_ids(clusters_ids, df_cont):\n",
        "    new_clusters_ids = {}\n",
        "    for i in clusters_ids:\n",
        "        new_clusters_ids[i] = (list(df_cont.iloc[clusters_ids[i][1:], [clusters_ids[i][0]]].sort_values([clusters_ids[i][0]], ascending=False).index), clusters_ids[i][0])\n",
        "    return new_clusters_ids"
      ],
      "execution_count": 0,
      "outputs": []
    },
    {
      "cell_type": "code",
      "metadata": {
        "id": "RGZn45k-YYf_",
        "colab_type": "code",
        "colab": {}
      },
      "source": [
        "clusters_ids2 = get_contr_sorted_ids(clusters_ids, df_cont)"
      ],
      "execution_count": 0,
      "outputs": []
    },
    {
      "cell_type": "code",
      "metadata": {
        "id": "-2UPA4B9bUL1",
        "colab_type": "code",
        "outputId": "faa34962-057b-4e31-da04-60c4c67eb8d0",
        "colab": {
          "base_uri": "https://localhost:8080/",
          "height": 54
        }
      },
      "source": [
        "print(clusters_ids2)"
      ],
      "execution_count": 0,
      "outputs": [
        {
          "output_type": "stream",
          "text": [
            "{0: ([16, 17, 45, 3, 47, 18, 52, 51, 56, 55, 9, 7], 48), 1: ([46, 42, 25, 50, 31, 15, 34, 29, 12, 26, 13, 11, 4, 33, 28, 30, 6, 0, 2, 1, 14, 43, 8, 54, 5, 44, 60, 49, 10], 53), 2: ([38, 59, 39, 61, 41, 21, 37, 35, 58, 40, 32, 62, 36, 24, 57, 27, 22, 19, 20], 23)}\n"
          ],
          "name": "stdout"
        }
      ]
    },
    {
      "cell_type": "code",
      "metadata": {
        "id": "KD-_nXqjPG0c",
        "colab_type": "code",
        "outputId": "ddfd6ac1-ce1c-498f-f2c1-0337341fa1a7",
        "colab": {
          "base_uri": "https://localhost:8080/",
          "height": 156
        }
      },
      "source": [
        "summ_sentences_idx = set()\n",
        "\n",
        "i = 0\n",
        "while (check_limit_condition(summ_sentences_idx)):\n",
        "    summ_sentences_idx.add(clusters_ids2[i][1])\n",
        "    i += 1\n",
        "    if (i == n_clusters): break\n",
        "\n",
        "i = 0\n",
        "while (check_limit_condition(summ_sentences_idx)):\n",
        "    summ_sentences_idx.add(clusters_ids2[i % n_clusters][0][i // n_clusters])\n",
        "    i += 1\n",
        "summ_sentences_idx = sorted(summ_sentences_idx)\n",
        "\n",
        "generated_summary_2 = \"\\n\".join(map(lambda i: sentences[i], summ_sentences_idx))\n",
        "print(generated_summary_2)"
      ],
      "execution_count": 0,
      "outputs": [
        {
          "output_type": "stream",
          "text": [
            "Unicode (UTF8) is fully supported and is in fact the only encoding accepted by Foma.\n",
            "It has been successfully compiled on Linux, Mac OS X, and Win32 operating systems, and is likely to be portable to other systems without much effort.\n",
            "N/A N/A ‘ignores’, left quotient, right quotient, ‘inside’ quotient ∈ ∈/ = /= N/A language membership, position equivalence ≺ < > precedes, follows ∨ ∪ ∧ ∩ - .P. .p. | & − .P. .p. union, intersection, set minus, priority unions => -> (->) @-> => -> (->) @-> context restriction, replacement rules <> shuffle (asynchronous product) × ◦ .x. .o. cross-product, composition Table 1: The regular expressions available in Foma from highest to lower precedence.\n",
            "5. network = fsm_regex(\"a+ b+\"); 6.\n",
            "Operations such as unions of automata are also constructed by default with the product construction method that directly produces deterministic automata.\n",
            "Though the main concern with Foma has not been that of efficiency, but of compatibility and extendibility, from a usefulness perspective it is important to avoid bottlenecks in the underlying algorithms that can cause compilation times to skyrocket, especially when constructing and combining large lexical transducers.\n",
            "The Foma project is multipurpose multi-mode finite-state compiler geared toward practical construction of large-scale finite-state machines such as may be needed in natural language processing as well as providing a framework for research in finite-state automata.\n"
          ],
          "name": "stdout"
        }
      ]
    },
    {
      "cell_type": "markdown",
      "metadata": {
        "id": "CC8nvpBXeMcj",
        "colab_type": "text"
      },
      "source": [
        "* **Summary 3**\n",
        "\n",
        "Sentences with minimun sentences id has been selected"
      ]
    },
    {
      "cell_type": "code",
      "metadata": {
        "id": "WFfORocKeV8J",
        "colab_type": "code",
        "outputId": "11b1e063-8f57-4695-acad-d07563a5ff99",
        "colab": {
          "base_uri": "https://localhost:8080/",
          "height": 54
        }
      },
      "source": [
        "for clid in clusters_ids:\n",
        "    clusters_ids[clid] = sorted(clusters_ids[clid])\n",
        "print(clusters_ids)"
      ],
      "execution_count": 0,
      "outputs": [
        {
          "output_type": "stream",
          "text": [
            "{0: [3, 7, 9, 16, 17, 18, 45, 47, 48, 51, 52, 55, 56], 1: [0, 1, 2, 4, 5, 6, 8, 10, 11, 12, 13, 14, 15, 25, 26, 28, 29, 30, 31, 33, 34, 42, 43, 44, 46, 49, 50, 53, 54, 60], 2: [19, 20, 21, 22, 23, 24, 27, 32, 35, 36, 37, 38, 39, 40, 41, 57, 58, 59, 61, 62]}\n"
          ],
          "name": "stdout"
        }
      ]
    },
    {
      "cell_type": "code",
      "metadata": {
        "id": "A8BYA1h0ePP6",
        "colab_type": "code",
        "outputId": "cc46a2f4-7508-4120-d8b7-d7b9e2cf37ae",
        "colab": {
          "base_uri": "https://localhost:8080/",
          "height": 156
        }
      },
      "source": [
        "summ_sentences_idx = set()\n",
        "\n",
        "i = 0\n",
        "while (check_limit_condition(summ_sentences_idx)):\n",
        "    summ_sentences_idx.add(clusters_ids[i % n_clusters][i // n_clusters])\n",
        "    i += 1\n",
        "\n",
        "summ_sentences_idx = sorted(summ_sentences_idx)\n",
        "\n",
        "generated_summary_3 = \"\\n\".join(map(lambda i: sentences[i], summ_sentences_idx))\n",
        "print(generated_summary_3)"
      ],
      "execution_count": 0,
      "outputs": [
        {
          "output_type": "stream",
          "text": [
            "Foma: a finite-state compiler and library\n",
            "Foma is a compiler, programming language, and C library for constructing finite-state automata and transducers for various uses.\n",
            "Foma is largely compatible with the Xerox/PARC finite-state toolkit.\n",
            "One of Foma’s design goals has been compatibility with the Xerox/PARC toolkit.\n",
            "Foma is licensed under the GNU general public license: in keeping with traditions of free software, the distribution that includes the source code comes with a user manual and a library of examples.\n",
            "For example, one can either say: ContainsX = Σ* X Σ*; MyWords = {cat}|{dog}|{mouse}; MyRule = n -> m || p; ShortWords = [MyLex1]1 ∩ Σˆ<6; or: Proceedings of the EACL 2009 Demonstrations Session, pages 29–32, Athens, Greece, 3 April 2009.\n",
            "Qc 2009 Association for Computational Linguistics Operators Compatibility variant Function [ ] () [ ] () grouping parentheses, optionality ∀ ∃ N/A quantifiers \\ ‘ term negation, substitution/homomorphism : : cross-product + ∗ + ∗ Kleene closures ˆ<n ˆ>n ˆ{m,n} ˆ<n ˆ>n ˆ{m,n} iterations 1 2 .1 .2 .u .l domain & range .f N/A eliminate all unification flags $ $.\n"
          ],
          "name": "stdout"
        }
      ]
    },
    {
      "cell_type": "markdown",
      "metadata": {
        "id": "JFdS7gJ354gi",
        "colab_type": "text"
      },
      "source": [
        "# **Rouge Score**"
      ]
    },
    {
      "cell_type": "code",
      "metadata": {
        "id": "RvmLbLvYx78I",
        "colab_type": "code",
        "colab": {}
      },
      "source": [
        "def rouge_su4(hypothesis, premises):\n",
        "    return Pythonrouge(summary_file_exist=False, summary=hypothesis, reference=premises, n_gram=3, ROUGE_SU4=True,\n",
        "                       ROUGE_L=True, recall_only=False, stemming=True, stopwords=False, word_level=True, length_limit=True,\n",
        "                       length=1000, use_cf=False, cf=95, scoring_formula='average', resampling=True, samples=1000,\n",
        "                       favor=True, p=0.5).calc_score()\n",
        "\n",
        "def rouge_1_2(hypothesis, premises):\n",
        "    return Rouge().get_scores(hypothesis, premises)"
      ],
      "execution_count": 0,
      "outputs": []
    },
    {
      "cell_type": "code",
      "metadata": {
        "id": "a57TtzeY92nf",
        "colab_type": "code",
        "outputId": "04c5f03a-121f-444b-fbdb-29863c65ea3e",
        "colab": {
          "base_uri": "https://localhost:8080/",
          "height": 272
        }
      },
      "source": [
        "rouge_su4(generated_summary_1, summ_2)"
      ],
      "execution_count": 0,
      "outputs": [
        {
          "output_type": "execute_result",
          "data": {
            "text/plain": [
              "{'ROUGE-1-F': 0.01615,\n",
              " 'ROUGE-1-P': 0.01615,\n",
              " 'ROUGE-1-R': 0.01615,\n",
              " 'ROUGE-2-F': 0.0,\n",
              " 'ROUGE-2-P': 0.0,\n",
              " 'ROUGE-2-R': 0.0,\n",
              " 'ROUGE-3-F': 0.0,\n",
              " 'ROUGE-3-P': 0.0,\n",
              " 'ROUGE-3-R': 0.0,\n",
              " 'ROUGE-L-F': 0.01615,\n",
              " 'ROUGE-L-P': 0.01615,\n",
              " 'ROUGE-L-R': 0.01615,\n",
              " 'ROUGE-SU4-F': 0.0,\n",
              " 'ROUGE-SU4-P': 0.0,\n",
              " 'ROUGE-SU4-R': 0.0}"
            ]
          },
          "metadata": {
            "tags": []
          },
          "execution_count": 84
        }
      ]
    },
    {
      "cell_type": "code",
      "metadata": {
        "id": "O93aNoXBxp7s",
        "colab_type": "code",
        "outputId": "734bd6a9-0883-4465-b572-403aa2c1f95e",
        "colab": {
          "base_uri": "https://localhost:8080/",
          "height": 272
        }
      },
      "source": [
        "rouge_su4(generated_summary_2, summ_2)"
      ],
      "execution_count": 0,
      "outputs": [
        {
          "output_type": "execute_result",
          "data": {
            "text/plain": [
              "{'ROUGE-1-F': 0.02869,\n",
              " 'ROUGE-1-P': 0.02869,\n",
              " 'ROUGE-1-R': 0.02869,\n",
              " 'ROUGE-2-F': 0.0,\n",
              " 'ROUGE-2-P': 0.0,\n",
              " 'ROUGE-2-R': 0.0,\n",
              " 'ROUGE-3-F': 0.0,\n",
              " 'ROUGE-3-P': 0.0,\n",
              " 'ROUGE-3-R': 0.0,\n",
              " 'ROUGE-L-F': 0.02869,\n",
              " 'ROUGE-L-P': 0.02869,\n",
              " 'ROUGE-L-R': 0.02869,\n",
              " 'ROUGE-SU4-F': 0.0,\n",
              " 'ROUGE-SU4-P': 0.0,\n",
              " 'ROUGE-SU4-R': 0.0}"
            ]
          },
          "metadata": {
            "tags": []
          },
          "execution_count": 85
        }
      ]
    },
    {
      "cell_type": "code",
      "metadata": {
        "id": "_ysNoTfbxd-P",
        "colab_type": "code",
        "outputId": "5b32390a-bae4-4450-c3de-7a6de26edb3a",
        "colab": {
          "base_uri": "https://localhost:8080/",
          "height": 272
        }
      },
      "source": [
        "rouge_su4(generated_summary_3, summ_2)\n"
      ],
      "execution_count": 0,
      "outputs": [
        {
          "output_type": "execute_result",
          "data": {
            "text/plain": [
              "{'ROUGE-1-F': 0.04263,\n",
              " 'ROUGE-1-P': 0.04263,\n",
              " 'ROUGE-1-R': 0.04263,\n",
              " 'ROUGE-2-F': 0.0,\n",
              " 'ROUGE-2-P': 0.0,\n",
              " 'ROUGE-2-R': 0.0,\n",
              " 'ROUGE-3-F': 0.0,\n",
              " 'ROUGE-3-P': 0.0,\n",
              " 'ROUGE-3-R': 0.0,\n",
              " 'ROUGE-L-F': 0.04263,\n",
              " 'ROUGE-L-P': 0.04263,\n",
              " 'ROUGE-L-R': 0.04263,\n",
              " 'ROUGE-SU4-F': 0.0,\n",
              " 'ROUGE-SU4-P': 0.0,\n",
              " 'ROUGE-SU4-R': 0.0}"
            ]
          },
          "metadata": {
            "tags": []
          },
          "execution_count": 86
        }
      ]
    },
    {
      "cell_type": "code",
      "metadata": {
        "id": "i8USXETQzIit",
        "colab_type": "code",
        "outputId": "e6f6775e-9695-4b90-f122-82f4dd0dafcd",
        "colab": {
          "base_uri": "https://localhost:8080/",
          "height": 170
        }
      },
      "source": [
        "rouge_1_2(generated_summary_1, summ_2)"
      ],
      "execution_count": 0,
      "outputs": [
        {
          "output_type": "execute_result",
          "data": {
            "text/plain": [
              "[{'rouge-1': {'f': 0.3954802218084062,\n",
              "   'p': 0.28150134048257375,\n",
              "   'r': 0.6645569620253164},\n",
              "  'rouge-2': {'f': 0.3100188994175979,\n",
              "   'p': 0.22043010752688172,\n",
              "   'r': 0.5222929936305732},\n",
              "  'rouge-l': {'f': 0.3921568585250571,\n",
              "   'p': 0.28112449799196787,\n",
              "   'r': 0.6481481481481481}}]"
            ]
          },
          "metadata": {
            "tags": []
          },
          "execution_count": 87
        }
      ]
    },
    {
      "cell_type": "code",
      "metadata": {
        "id": "ftURPMC1zaBX",
        "colab_type": "code",
        "outputId": "edff6138-60c5-4dd4-80b0-f6226f64895a",
        "colab": {
          "base_uri": "https://localhost:8080/",
          "height": 170
        }
      },
      "source": [
        "rouge_1_2(generated_summary_2, summ_2)"
      ],
      "execution_count": 0,
      "outputs": [
        {
          "output_type": "execute_result",
          "data": {
            "text/plain": [
              "[{'rouge-1': {'f': 0.3979328117057603,\n",
              "   'p': 0.33624454148471616,\n",
              "   'r': 0.4873417721518987},\n",
              "  'rouge-2': {'f': 0.249350644520695,\n",
              "   'p': 0.21052631578947367,\n",
              "   'r': 0.3057324840764331},\n",
              "  'rouge-l': {'f': 0.37275985188576716,\n",
              "   'p': 0.30409356725146197,\n",
              "   'r': 0.48148148148148145}}]"
            ]
          },
          "metadata": {
            "tags": []
          },
          "execution_count": 88
        }
      ]
    },
    {
      "cell_type": "code",
      "metadata": {
        "id": "sh0z94MozZck",
        "colab_type": "code",
        "outputId": "fc9d3475-fb83-4c36-ca9c-4899b789228e",
        "colab": {
          "base_uri": "https://localhost:8080/",
          "height": 170
        }
      },
      "source": [
        "rouge_1_2(generated_summary_3, summ_2)"
      ],
      "execution_count": 0,
      "outputs": [
        {
          "output_type": "execute_result",
          "data": {
            "text/plain": [
              "[{'rouge-1': {'f': 0.3786982198732538,\n",
              "   'p': 0.35555555555555557,\n",
              "   'r': 0.4050632911392405},\n",
              "  'rouge-2': {'f': 0.21428570930715007,\n",
              "   'p': 0.2011173184357542,\n",
              "   'r': 0.22929936305732485},\n",
              "  'rouge-l': {'f': 0.30705393696251787,\n",
              "   'p': 0.2781954887218045,\n",
              "   'r': 0.3425925925925926}}]"
            ]
          },
          "metadata": {
            "tags": []
          },
          "execution_count": 89
        }
      ]
    }
  ]
}